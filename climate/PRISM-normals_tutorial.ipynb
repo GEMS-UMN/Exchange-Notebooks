{
 "cells": [
  {
   "cell_type": "markdown",
   "metadata": {},
   "source": [
    "# GEMS PRISM-normals Tutorial"
   ]
  },
  {
   "cell_type": "markdown",
   "metadata": {},
   "source": [
    "### Section 1: Establish connection and explore available data"
   ]
  },
  {
   "cell_type": "code",
   "execution_count": 1,
   "metadata": {
    "ExecuteTime": {
     "end_time": "2023-07-20T19:34:44.743997300Z",
     "start_time": "2023-07-20T19:34:43.624559600Z"
    }
   },
   "outputs": [],
   "source": [
    "# Imports used in this notebook\n",
    "from requests import Session\n",
    "\n",
    "import pandas as pd\n",
    "import rasterio\n",
    "import numpy as np\n",
    "from matplotlib import pyplot as plt\n",
    "import sys\n",
    "sys.path.append('..')\n",
    "\n",
    "# Import your API key from a file\n",
    "from api_key import key\n",
    "# from keys import write_key\n",
    "\n",
    "# Establish connection\n",
    "s = Session()\n",
    "api_url = 'https://exchange-1.gems.msi.umn.edu/climate/v2/PRISM-normals'\n",
    "s.headers.update({'apikey': key})\n",
    "\n",
    "# api_url = 'https://exchange-0.msi.umn.edu/climate/v2/PRISM-normals'\n",
    "# s.headers.update({'x-write-key': write_key})\n",
    "\n",
    "# Define bounding box by string of \"upper left lon, lat, bottom right lon, lat\" in decimal degrees, no spaces\n",
    "bbox = '-93.447444,48.65009,-88.83762,45.17553'\n",
    "\n",
    "# Sample AOI of the upper midwest\n",
    "aoi = {\"type\": \"Polygon\", \"coordinates\":\n",
    "     [[[-90.86257188625456, 46.88471631149375],\n",
    "       [-90.21090204846868, 47.84867191684921],\n",
    "       [-90.13229204839561, 47.986461643867216],\n",
    "       [-91.31830244956424, 47.81423854488315],\n",
    "       [-91.43583296326011, 47.408369403885246],\n",
    "       [-92.38327281856216, 46.879798020360425],\n",
    "       [-91.9971011307051, 46.54594590211718],\n",
    "       [-90.86257188625456, 46.88471631149375]]]}"
   ]
  },
  {
   "cell_type": "code",
   "execution_count": 2,
   "metadata": {
    "ExecuteTime": {
     "end_time": "2023-07-20T19:34:55.750486100Z",
     "start_time": "2023-07-20T19:34:55.500225400Z"
    }
   },
   "outputs": [
    {
     "data": {
      "text/html": [
       "<div>\n",
       "<style scoped>\n",
       "    .dataframe tbody tr th:only-of-type {\n",
       "        vertical-align: middle;\n",
       "    }\n",
       "\n",
       "    .dataframe tbody tr th {\n",
       "        vertical-align: top;\n",
       "    }\n",
       "\n",
       "    .dataframe thead th {\n",
       "        text-align: right;\n",
       "    }\n",
       "</style>\n",
       "<table border=\"1\" class=\"dataframe\">\n",
       "  <thead>\n",
       "    <tr style=\"text-align: right;\">\n",
       "      <th></th>\n",
       "      <th>name</th>\n",
       "      <th>units</th>\n",
       "      <th>description</th>\n",
       "      <th>discrete</th>\n",
       "      <th>id</th>\n",
       "    </tr>\n",
       "  </thead>\n",
       "  <tbody>\n",
       "    <tr>\n",
       "      <th>0</th>\n",
       "      <td>Precipitation</td>\n",
       "      <td>mm</td>\n",
       "      <td>Monthly total precipitation (rain+melted snow)</td>\n",
       "      <td>False</td>\n",
       "      <td>75</td>\n",
       "    </tr>\n",
       "    <tr>\n",
       "      <th>1</th>\n",
       "      <td>Maximum temperature</td>\n",
       "      <td>degrees C</td>\n",
       "      <td>Daily maximum temperature [averaged over all d...</td>\n",
       "      <td>False</td>\n",
       "      <td>76</td>\n",
       "    </tr>\n",
       "    <tr>\n",
       "      <th>2</th>\n",
       "      <td>Minimum temperature</td>\n",
       "      <td>degrees C</td>\n",
       "      <td>Daily minimum temperature [averaged over all d...</td>\n",
       "      <td>False</td>\n",
       "      <td>77</td>\n",
       "    </tr>\n",
       "    <tr>\n",
       "      <th>3</th>\n",
       "      <td>Mean temperature</td>\n",
       "      <td>degrees C</td>\n",
       "      <td>Daily mean temperature, calculated as (tmax+tm...</td>\n",
       "      <td>False</td>\n",
       "      <td>78</td>\n",
       "    </tr>\n",
       "    <tr>\n",
       "      <th>4</th>\n",
       "      <td>Mean dew point temperature</td>\n",
       "      <td>degrees C</td>\n",
       "      <td>Daily mean dew point temperature [averaged ove...</td>\n",
       "      <td>False</td>\n",
       "      <td>79</td>\n",
       "    </tr>\n",
       "    <tr>\n",
       "      <th>5</th>\n",
       "      <td>Minimum vapor pressure deficit</td>\n",
       "      <td>hPa</td>\n",
       "      <td>Daily minimum vapor pressure deficit [averaged...</td>\n",
       "      <td>False</td>\n",
       "      <td>80</td>\n",
       "    </tr>\n",
       "    <tr>\n",
       "      <th>6</th>\n",
       "      <td>Maximum vapor pressure deficit</td>\n",
       "      <td>hPa</td>\n",
       "      <td>Daily maximum vapor pressure deficit [averaged...</td>\n",
       "      <td>False</td>\n",
       "      <td>81</td>\n",
       "    </tr>\n",
       "    <tr>\n",
       "      <th>7</th>\n",
       "      <td>Shortwave solar radiation horizontal</td>\n",
       "      <td>MJ per square meter per day</td>\n",
       "      <td>Total daily global shortwave solar radiation r...</td>\n",
       "      <td>False</td>\n",
       "      <td>82</td>\n",
       "    </tr>\n",
       "    <tr>\n",
       "      <th>8</th>\n",
       "      <td>Shortwave solar radiation sloped</td>\n",
       "      <td>MJ per square meter per day</td>\n",
       "      <td>Total daily global shortwave solar radiation r...</td>\n",
       "      <td>False</td>\n",
       "      <td>83</td>\n",
       "    </tr>\n",
       "    <tr>\n",
       "      <th>9</th>\n",
       "      <td>Shortwave solar radiation horizontal clear</td>\n",
       "      <td>MJ per square meter per day</td>\n",
       "      <td>Total daily global shortwave solar radiation r...</td>\n",
       "      <td>False</td>\n",
       "      <td>84</td>\n",
       "    </tr>\n",
       "    <tr>\n",
       "      <th>10</th>\n",
       "      <td>Atmospheric transmittance</td>\n",
       "      <td>dimensionless, 0-1</td>\n",
       "      <td>Atmospheric transmittance (cloudiness) [monthl...</td>\n",
       "      <td>False</td>\n",
       "      <td>85</td>\n",
       "    </tr>\n",
       "  </tbody>\n",
       "</table>\n",
       "</div>"
      ],
      "text/plain": [
       "                                          name                        units  \\\n",
       "0                                Precipitation                           mm   \n",
       "1                          Maximum temperature                    degrees C   \n",
       "2                          Minimum temperature                    degrees C   \n",
       "3                             Mean temperature                    degrees C   \n",
       "4                   Mean dew point temperature                    degrees C   \n",
       "5               Minimum vapor pressure deficit                          hPa   \n",
       "6               Maximum vapor pressure deficit                          hPa   \n",
       "7         Shortwave solar radiation horizontal  MJ per square meter per day   \n",
       "8             Shortwave solar radiation sloped  MJ per square meter per day   \n",
       "9   Shortwave solar radiation horizontal clear  MJ per square meter per day   \n",
       "10                   Atmospheric transmittance           dimensionless, 0-1   \n",
       "\n",
       "                                          description  discrete  id  \n",
       "0      Monthly total precipitation (rain+melted snow)     False  75  \n",
       "1   Daily maximum temperature [averaged over all d...     False  76  \n",
       "2   Daily minimum temperature [averaged over all d...     False  77  \n",
       "3   Daily mean temperature, calculated as (tmax+tm...     False  78  \n",
       "4   Daily mean dew point temperature [averaged ove...     False  79  \n",
       "5   Daily minimum vapor pressure deficit [averaged...     False  80  \n",
       "6   Daily maximum vapor pressure deficit [averaged...     False  81  \n",
       "7   Total daily global shortwave solar radiation r...     False  82  \n",
       "8   Total daily global shortwave solar radiation r...     False  83  \n",
       "9   Total daily global shortwave solar radiation r...     False  84  \n",
       "10  Atmospheric transmittance (cloudiness) [monthl...     False  85  "
      ]
     },
     "metadata": {},
     "output_type": "display_data"
    }
   ],
   "source": [
    "# List available variables\n",
    "\n",
    "res = s.get(f'{api_url}/layer')\n",
    "variables = pd.json_normalize(res.json())\n",
    "display(variables)"
   ]
  },
  {
   "cell_type": "code",
   "execution_count": 3,
   "metadata": {
    "ExecuteTime": {
     "end_time": "2023-07-20T19:34:57.380900Z",
     "start_time": "2023-07-20T19:34:57.030447900Z"
    }
   },
   "outputs": [
    {
     "name": "stdout",
     "output_type": "stream",
     "text": [
      "Raster ID: 186832\n"
     ]
    }
   ],
   "source": [
    "# Use the name of a variable to programmatically get its ID\n",
    "\n",
    "variable_id = variables.loc[variables['name'] == 'Maximum temperature', 'id'].iloc[0]\n",
    "\n",
    "# Get ID for a specific raster by time key name\n",
    "t_key = '30-year September normal (1991-2020)' # Follow this pattern for all months, or 30-year annual normals for all months\n",
    "res = s.get(f'{api_url}/object/search', params={'layer': variable_id}).json()\n",
    "raster_id = next((res[i]['id'] for i in range(len(res)) if res[i]['t_key'] == t_key), 'No matches for that t_key')\n",
    "print('Raster ID:', raster_id)"
   ]
  },
  {
   "cell_type": "code",
   "execution_count": 4,
   "metadata": {
    "ExecuteTime": {
     "end_time": "2023-07-20T19:34:58.666667300Z",
     "start_time": "2023-07-20T19:34:58.599107200Z"
    }
   },
   "outputs": [
    {
     "data": {
      "text/html": [
       "<div>\n",
       "<style scoped>\n",
       "    .dataframe tbody tr th:only-of-type {\n",
       "        vertical-align: middle;\n",
       "    }\n",
       "\n",
       "    .dataframe tbody tr th {\n",
       "        vertical-align: top;\n",
       "    }\n",
       "\n",
       "    .dataframe thead th {\n",
       "        text-align: right;\n",
       "    }\n",
       "</style>\n",
       "<table border=\"1\" class=\"dataframe\">\n",
       "  <thead>\n",
       "    <tr style=\"text-align: right;\">\n",
       "      <th></th>\n",
       "      <th>id</th>\n",
       "      <th>grid_id</th>\n",
       "      <th>t_ranges</th>\n",
       "      <th>t_key</th>\n",
       "      <th>t_description</th>\n",
       "      <th>name</th>\n",
       "      <th>units</th>\n",
       "      <th>description</th>\n",
       "      <th>layer_id</th>\n",
       "    </tr>\n",
       "  </thead>\n",
       "  <tbody>\n",
       "    <tr>\n",
       "      <th>0</th>\n",
       "      <td>186832</td>\n",
       "      <td>3</td>\n",
       "      <td>[{'begin': '1991-09', 'end': '1991-10'}, {'beg...</td>\n",
       "      <td>30-year September normal (1991-2020)</td>\n",
       "      <td>Average of all September values from 1991-2020</td>\n",
       "      <td>Maximum temperature</td>\n",
       "      <td>degrees C</td>\n",
       "      <td>Daily maximum temperature [averaged over all d...</td>\n",
       "      <td>76</td>\n",
       "    </tr>\n",
       "  </tbody>\n",
       "</table>\n",
       "</div>"
      ],
      "text/plain": [
       "       id  grid_id                                           t_ranges  \\\n",
       "0  186832        3  [{'begin': '1991-09', 'end': '1991-10'}, {'beg...   \n",
       "\n",
       "                                  t_key  \\\n",
       "0  30-year September normal (1991-2020)   \n",
       "\n",
       "                                    t_description                 name  \\\n",
       "0  Average of all September values from 1991-2020  Maximum temperature   \n",
       "\n",
       "       units                                        description  layer_id  \n",
       "0  degrees C  Daily maximum temperature [averaged over all d...        76  "
      ]
     },
     "metadata": {},
     "output_type": "display_data"
    },
    {
     "name": "stdout",
     "output_type": "stream",
     "text": [
      "Variable name: Maximum temperature \n",
      "Variable ID: 76 \n",
      "Raster ID: 186832 \n",
      "Description: Daily maximum temperature [averaged over all days in the month] \n",
      "Units: degrees C \n",
      "Time key : 30-year September normal (1991-2020) \n",
      "Time key description: Average of all September values from 1991-2020 \n",
      "Number of time steps: 30 \n",
      "Begin time: 1991-09 \n",
      "End time 2020-09\n"
     ]
    }
   ],
   "source": [
    "# Get metadata for a raster ID\n",
    "\n",
    "metadata = s.get(f'{api_url}/object/{raster_id}')\n",
    "metadata_df = pd.json_normalize(metadata.json())\n",
    "display(metadata_df)\n",
    "\n",
    "name = metadata_df['name'].iloc[0]\n",
    "layer_id = metadata_df['layer_id'].iloc[0]\n",
    "description = metadata_df['description'].iloc[0]\n",
    "units = metadata_df['units'].iloc[0]\n",
    "t_key = metadata_df['t_key'].iloc[0]\n",
    "t_desc = metadata_df['t_description'].iloc[0]\n",
    "time_range = metadata_df['t_ranges']\n",
    "t_start, t_end = time_range[0][0]['begin'], time_range[0][len(time_range[0])-1]['begin']\n",
    "print('Variable name:', name, '\\n'\n",
    "      'Variable ID:', layer_id, '\\n'\n",
    "      'Raster ID:', raster_id, '\\n'\n",
    "      'Description:', description, '\\n'\n",
    "      'Units:', units, '\\n'\n",
    "      'Time key :', t_key, '\\n'\n",
    "      'Time key description:', t_desc, '\\n'\n",
    "      'Number of time steps:', len(time_range[0]), '\\n'\n",
    "      'Begin time:', t_start, '\\n'\n",
    "      'End time', t_end\n",
    "      )"
   ]
  },
  {
   "cell_type": "markdown",
   "metadata": {},
   "source": [
    "### Section 2: Explore values for a single raster"
   ]
  },
  {
   "cell_type": "code",
   "execution_count": 5,
   "metadata": {
    "ExecuteTime": {
     "end_time": "2023-07-20T19:35:00.909240900Z",
     "start_time": "2023-07-20T19:35:00.774854400Z"
    }
   },
   "outputs": [
    {
     "name": "stdout",
     "output_type": "stream",
     "text": [
      "Raster value at 46.1, -93.7: 20.684499740600586\n"
     ]
    }
   ],
   "source": [
    "# Get the value at a lat, lon point\n",
    "\n",
    "params = {'lat': 46.1, 'lon': -93.7}\n",
    "\n",
    "point_value = s.get(f'{api_url}/object/{raster_id}/point', params=params).json()['value']\n",
    "print(f'Raster value at {params[\"lat\"]}, {params[\"lon\"]}:', point_value)"
   ]
  },
  {
   "cell_type": "code",
   "execution_count": 6,
   "metadata": {
    "ExecuteTime": {
     "end_time": "2023-07-20T19:35:02.182039400Z",
     "start_time": "2023-07-20T19:35:02.034011600Z"
    }
   },
   "outputs": [
    {
     "data": {
      "text/html": [
       "<div>\n",
       "<style scoped>\n",
       "    .dataframe tbody tr th:only-of-type {\n",
       "        vertical-align: middle;\n",
       "    }\n",
       "\n",
       "    .dataframe tbody tr th {\n",
       "        vertical-align: top;\n",
       "    }\n",
       "\n",
       "    .dataframe thead th {\n",
       "        text-align: right;\n",
       "    }\n",
       "</style>\n",
       "<table border=\"1\" class=\"dataframe\">\n",
       "  <thead>\n",
       "    <tr style=\"text-align: right;\">\n",
       "      <th></th>\n",
       "      <th>count</th>\n",
       "      <th>sum</th>\n",
       "      <th>mean</th>\n",
       "      <th>stddev</th>\n",
       "      <th>min</th>\n",
       "      <th>max</th>\n",
       "    </tr>\n",
       "  </thead>\n",
       "  <tbody>\n",
       "    <tr>\n",
       "      <th>0</th>\n",
       "      <td>8472</td>\n",
       "      <td>157159.441444</td>\n",
       "      <td>18.550453</td>\n",
       "      <td>0.639548</td>\n",
       "      <td>16.529999</td>\n",
       "      <td>20.234299</td>\n",
       "    </tr>\n",
       "  </tbody>\n",
       "</table>\n",
       "</div>"
      ],
      "text/plain": [
       "   count            sum       mean    stddev        min        max\n",
       "0   8472  157159.441444  18.550453  0.639548  16.529999  20.234299"
      ]
     },
     "metadata": {},
     "output_type": "display_data"
    }
   ],
   "source": [
    "# Get summary statistics of values in a geoJSON area of interest\n",
    "# Any bounding box query can be converted to a geoJSON query\n",
    "# by changing the request type from 'get' to 'post', and\n",
    "# adding the 'json' keyword argument set to your geoJSON AOI\n",
    "#\n",
    "# Note if the result returned is 'None' is likely that your AOI\n",
    "# did not intersect the center of a cell. Try the point function.\n",
    "\n",
    "res = s.post(f'{api_url}/object/{raster_id}/stats', json=aoi)\n",
    "stats_df = pd.json_normalize(res.json())\n",
    "display(stats_df)"
   ]
  },
  {
   "cell_type": "code",
   "execution_count": 7,
   "metadata": {
    "ExecuteTime": {
     "end_time": "2023-07-20T19:35:03.329765500Z",
     "start_time": "2023-07-20T19:35:03.147933700Z"
    }
   },
   "outputs": [
    {
     "data": {
      "text/html": [
       "<div>\n",
       "<style scoped>\n",
       "    .dataframe tbody tr th:only-of-type {\n",
       "        vertical-align: middle;\n",
       "    }\n",
       "\n",
       "    .dataframe tbody tr th {\n",
       "        vertical-align: top;\n",
       "    }\n",
       "\n",
       "    .dataframe thead th {\n",
       "        text-align: right;\n",
       "    }\n",
       "</style>\n",
       "<table border=\"1\" class=\"dataframe\">\n",
       "  <thead>\n",
       "    <tr style=\"text-align: right;\">\n",
       "      <th></th>\n",
       "      <th>quantile</th>\n",
       "      <th>value</th>\n",
       "    </tr>\n",
       "  </thead>\n",
       "  <tbody>\n",
       "    <tr>\n",
       "      <th>0</th>\n",
       "      <td>0.0</td>\n",
       "      <td>15.560699</td>\n",
       "    </tr>\n",
       "    <tr>\n",
       "      <th>1</th>\n",
       "      <td>0.1</td>\n",
       "      <td>18.463659</td>\n",
       "    </tr>\n",
       "    <tr>\n",
       "      <th>2</th>\n",
       "      <td>0.3</td>\n",
       "      <td>19.244499</td>\n",
       "    </tr>\n",
       "    <tr>\n",
       "      <th>3</th>\n",
       "      <td>0.5</td>\n",
       "      <td>19.761900</td>\n",
       "    </tr>\n",
       "    <tr>\n",
       "      <th>4</th>\n",
       "      <td>0.9</td>\n",
       "      <td>21.264419</td>\n",
       "    </tr>\n",
       "    <tr>\n",
       "      <th>5</th>\n",
       "      <td>1.0</td>\n",
       "      <td>22.959900</td>\n",
       "    </tr>\n",
       "  </tbody>\n",
       "</table>\n",
       "</div>"
      ],
      "text/plain": [
       "   quantile      value\n",
       "0       0.0  15.560699\n",
       "1       0.1  18.463659\n",
       "2       0.3  19.244499\n",
       "3       0.5  19.761900\n",
       "4       0.9  21.264419\n",
       "5       1.0  22.959900"
      ]
     },
     "metadata": {},
     "output_type": "display_data"
    }
   ],
   "source": [
    "# Calculate the quantiles of the raster cell values in a bounding box\n",
    "\n",
    "params = {'bbox': bbox,\n",
    "          'q': [0, 0.1, 0.3, 0.5, 0.9, 1]} # Omit 'q' parameter for default of [0, 0.25, 0.5, 0.75, 1]\n",
    "res = s.get(f'{api_url}/object/{raster_id}/quantiles', params=params)\n",
    "quantiles_df = pd.json_normalize(res.json())\n",
    "display(quantiles_df)"
   ]
  },
  {
   "cell_type": "code",
   "execution_count": 8,
   "metadata": {
    "ExecuteTime": {
     "end_time": "2023-07-20T19:35:04.705922800Z",
     "start_time": "2023-07-20T19:35:04.413038900Z"
    }
   },
   "outputs": [
    {
     "data": {
      "text/html": [
       "<div>\n",
       "<style scoped>\n",
       "    .dataframe tbody tr th:only-of-type {\n",
       "        vertical-align: middle;\n",
       "    }\n",
       "\n",
       "    .dataframe tbody tr th {\n",
       "        vertical-align: top;\n",
       "    }\n",
       "\n",
       "    .dataframe thead th {\n",
       "        text-align: right;\n",
       "    }\n",
       "</style>\n",
       "<table border=\"1\" class=\"dataframe\">\n",
       "  <thead>\n",
       "    <tr style=\"text-align: right;\">\n",
       "      <th></th>\n",
       "      <th>min</th>\n",
       "      <th>max</th>\n",
       "      <th>count</th>\n",
       "      <th>percent</th>\n",
       "    </tr>\n",
       "  </thead>\n",
       "  <tbody>\n",
       "    <tr>\n",
       "      <th>0</th>\n",
       "      <td>15.560699</td>\n",
       "      <td>16.382833</td>\n",
       "      <td>297</td>\n",
       "      <td>0.002814</td>\n",
       "    </tr>\n",
       "    <tr>\n",
       "      <th>1</th>\n",
       "      <td>16.382833</td>\n",
       "      <td>17.204966</td>\n",
       "      <td>1419</td>\n",
       "      <td>0.013444</td>\n",
       "    </tr>\n",
       "    <tr>\n",
       "      <th>2</th>\n",
       "      <td>17.204966</td>\n",
       "      <td>18.027100</td>\n",
       "      <td>2953</td>\n",
       "      <td>0.027978</td>\n",
       "    </tr>\n",
       "    <tr>\n",
       "      <th>3</th>\n",
       "      <td>18.027100</td>\n",
       "      <td>18.849233</td>\n",
       "      <td>11854</td>\n",
       "      <td>0.112308</td>\n",
       "    </tr>\n",
       "    <tr>\n",
       "      <th>4</th>\n",
       "      <td>18.849233</td>\n",
       "      <td>19.671366</td>\n",
       "      <td>32211</td>\n",
       "      <td>0.305176</td>\n",
       "    </tr>\n",
       "    <tr>\n",
       "      <th>5</th>\n",
       "      <td>19.671366</td>\n",
       "      <td>20.493500</td>\n",
       "      <td>29934</td>\n",
       "      <td>0.283603</td>\n",
       "    </tr>\n",
       "    <tr>\n",
       "      <th>6</th>\n",
       "      <td>20.493500</td>\n",
       "      <td>21.315633</td>\n",
       "      <td>17434</td>\n",
       "      <td>0.165174</td>\n",
       "    </tr>\n",
       "    <tr>\n",
       "      <th>7</th>\n",
       "      <td>21.315633</td>\n",
       "      <td>22.137767</td>\n",
       "      <td>7213</td>\n",
       "      <td>0.068338</td>\n",
       "    </tr>\n",
       "    <tr>\n",
       "      <th>8</th>\n",
       "      <td>22.137767</td>\n",
       "      <td>22.959900</td>\n",
       "      <td>2234</td>\n",
       "      <td>0.021166</td>\n",
       "    </tr>\n",
       "  </tbody>\n",
       "</table>\n",
       "</div>"
      ],
      "text/plain": [
       "         min        max  count   percent\n",
       "0  15.560699  16.382833    297  0.002814\n",
       "1  16.382833  17.204966   1419  0.013444\n",
       "2  17.204966  18.027100   2953  0.027978\n",
       "3  18.027100  18.849233  11854  0.112308\n",
       "4  18.849233  19.671366  32211  0.305176\n",
       "5  19.671366  20.493500  29934  0.283603\n",
       "6  20.493500  21.315633  17434  0.165174\n",
       "7  21.315633  22.137767   7213  0.068338\n",
       "8  22.137767  22.959900   2234  0.021166"
      ]
     },
     "metadata": {},
     "output_type": "display_data"
    },
    {
     "data": {
      "image/png": "[encoded data removed]",
      "text/plain": [
       "<Figure size 640x480 with 1 Axes>"
      ]
     },
     "metadata": {},
     "output_type": "display_data"
    }
   ],
   "source": [
    "# Make a histogram raster cell values in a bounding box\n",
    "\n",
    "params = {'bbox': bbox,\n",
    "          'nbin': 9} # Omit 'nbin' parameter for default of 14\n",
    "res = s.get(f'{api_url}/object/{raster_id}/histogram', params=params)\n",
    "df = pd.json_normalize(res.json())\n",
    "display(df)\n",
    "\n",
    "# The dataframe returned is already formatted as a histogram, so we plot it as a bar chart\n",
    "bar_width = df['max'].iloc[0] # Set bar width equal to bin size\n",
    "plt.bar(df['max']-(bar_width/2), df['count'], width=bar_width)\n",
    "plt.show()"
   ]
  },
  {
   "cell_type": "markdown",
   "metadata": {},
   "source": [
    "### Section 3: View and download a subset of an individual raster"
   ]
  },
  {
   "cell_type": "code",
   "execution_count": 9,
   "metadata": {
    "ExecuteTime": {
     "end_time": "2023-07-20T19:35:08.230540100Z",
     "start_time": "2023-07-20T19:35:07.804553300Z"
    }
   },
   "outputs": [
    {
     "data": {
      "image/png": "[encoded data removed]",
      "text/plain": [
       "<Figure size 640x480 with 2 Axes>"
      ]
     },
     "metadata": {},
     "output_type": "display_data"
    }
   ],
   "source": [
    "# Visualize the area of a raster within a bounding box\n",
    "\n",
    "params = {'bbox': bbox}\n",
    "res = s.get(f'{api_url}/object/{raster_id}/raster', params=params)\n",
    "\n",
    "# Open the response as a memory file and plot it\n",
    "with rasterio.MemoryFile(res.content) as memfile:\n",
    "    with memfile.open() as dataset:\n",
    "        data = dataset.read(1)\n",
    "        data = np.ma.masked_where(data == dataset.nodata, data)\n",
    "        palette = plt.cm.gray_r.copy()\n",
    "        plt.imshow(data, cmap=palette)\n",
    "        plt.title(f'{name} \\n {t_start} to {t_end}')\n",
    "        plt.colorbar(label=units)\n",
    "    plt.show()"
   ]
  },
  {
   "cell_type": "code",
   "execution_count": 10,
   "metadata": {
    "ExecuteTime": {
     "end_time": "2023-07-20T17:06:00.138448900Z",
     "start_time": "2023-07-20T17:05:59.881792800Z"
    }
   },
   "outputs": [],
   "source": [
    "# Download a subset of the raster defined by a bounding box\n",
    "\n",
    "params= {'bbox': bbox}\n",
    "\n",
    "res = s.get(f'{api_url}/object/{raster_id}/raster', params=params)\n",
    "out_path = 'raster_subset.tif' # Change to a local path\n",
    "\n",
    "with rasterio.MemoryFile(res.content) as memfile:\n",
    "    with memfile.open() as raster:\n",
    "        with rasterio.open(out_path, 'w', **raster.profile) as dst:\n",
    "            dst.write(raster.read(1), 1) # Read the first band (DEM data are single band) of the raster and write to first band of file"
   ]
  },
  {
   "cell_type": "markdown",
   "metadata": {},
   "source": [
    "### Section 4: Create tabular data for an AOI"
   ]
  },
  {
   "cell_type": "code",
   "execution_count": 11,
   "metadata": {
    "ExecuteTime": {
     "end_time": "2023-07-20T19:35:19.487845200Z",
     "start_time": "2023-07-20T19:35:13.177761100Z"
    }
   },
   "outputs": [
    {
     "data": {
      "text/html": [
       "<div>\n",
       "<style scoped>\n",
       "    .dataframe tbody tr th:only-of-type {\n",
       "        vertical-align: middle;\n",
       "    }\n",
       "\n",
       "    .dataframe tbody tr th {\n",
       "        vertical-align: top;\n",
       "    }\n",
       "\n",
       "    .dataframe thead th {\n",
       "        text-align: right;\n",
       "    }\n",
       "</style>\n",
       "<table border=\"1\" class=\"dataframe\">\n",
       "  <thead>\n",
       "    <tr style=\"text-align: right;\">\n",
       "      <th></th>\n",
       "      <th>time</th>\n",
       "      <th>Precipitation</th>\n",
       "      <th>Minimum temperature</th>\n",
       "      <th>Maximum temperature</th>\n",
       "    </tr>\n",
       "  </thead>\n",
       "  <tbody>\n",
       "    <tr>\n",
       "      <th>0</th>\n",
       "      <td>30-year May normal (1991-2020)</td>\n",
       "      <td>81.958682</td>\n",
       "      <td>-1.233094</td>\n",
       "      <td>9.106516</td>\n",
       "    </tr>\n",
       "    <tr>\n",
       "      <th>1</th>\n",
       "      <td>30-year June normal (1991-2020)</td>\n",
       "      <td>790.921089</td>\n",
       "      <td>-1.233094</td>\n",
       "      <td>20.368627</td>\n",
       "    </tr>\n",
       "    <tr>\n",
       "      <th>2</th>\n",
       "      <td>30-year July normal (1991-2020)</td>\n",
       "      <td>790.921089</td>\n",
       "      <td>-1.233094</td>\n",
       "      <td>23.849080</td>\n",
       "    </tr>\n",
       "    <tr>\n",
       "      <th>3</th>\n",
       "      <td>30-year August normal (1991-2020)</td>\n",
       "      <td>84.585698</td>\n",
       "      <td>-1.233094</td>\n",
       "      <td>23.283471</td>\n",
       "    </tr>\n",
       "    <tr>\n",
       "      <th>4</th>\n",
       "      <td>30-year September normal (1991-2020)</td>\n",
       "      <td>87.475524</td>\n",
       "      <td>-1.233094</td>\n",
       "      <td>18.550453</td>\n",
       "    </tr>\n",
       "  </tbody>\n",
       "</table>\n",
       "</div>"
      ],
      "text/plain": [
       "                                   time  Precipitation  Minimum temperature  \\\n",
       "0        30-year May normal (1991-2020)      81.958682            -1.233094   \n",
       "1       30-year June normal (1991-2020)     790.921089            -1.233094   \n",
       "2       30-year July normal (1991-2020)     790.921089            -1.233094   \n",
       "3     30-year August normal (1991-2020)      84.585698            -1.233094   \n",
       "4  30-year September normal (1991-2020)      87.475524            -1.233094   \n",
       "\n",
       "   Maximum temperature  \n",
       "0             9.106516  \n",
       "1            20.368627  \n",
       "2            23.849080  \n",
       "3            23.283471  \n",
       "4            18.550453  "
      ]
     },
     "metadata": {},
     "output_type": "display_data"
    }
   ],
   "source": [
    "# Construct a dataframe with columns for average precip, minimum temperature, and max temperature\n",
    "# for growing season months (May through September), for an AOI.\n",
    "\n",
    "var_list = ['Precipitation',\n",
    "            'Minimum temperature',\n",
    "            'Maximum temperature'\n",
    "            ]\n",
    "\n",
    "res = s.get(f'{api_url}/layer').json()\n",
    "variables = pd.json_normalize(res)\n",
    "\n",
    "rows = []\n",
    "\n",
    "growing_season_months = [5, 6, 7, 8, 9]\n",
    "year = 1995  # All years in a climate normals dataset have the same value\n",
    "\n",
    "for month in growing_season_months:\n",
    "    start_date = f'{year}-{str(month).zfill(2)}'\n",
    "    end_date = f'{year}-{str(month+1).zfill(2)}'\n",
    "\n",
    "    params = {\n",
    "          'begin': start_date,\n",
    "          'end': end_date}\n",
    "\n",
    "    t_key = s.get(f'{api_url}/object/search', params=params).json()[0]['t_key']\n",
    "    row = {'time': t_key}\n",
    "\n",
    "    for var in var_list:\n",
    "        params['layer'] = variables.loc[variables['name'] == var, 'id'].iloc[0]\n",
    "        raster_id = s.get(f'{api_url}/object/search', params=params).json()[0]['id']\n",
    "        var_value = s.post(f'{api_url}/object/{raster_id}/stats', json=aoi).json()['mean']\n",
    "        row[var] = var_value\n",
    "\n",
    "    rows.append(row)\n",
    "\n",
    "df = pd.DataFrame.from_dict(rows)\n",
    "display(df)"
   ]
  }
 ],
 "metadata": {
  "kernelspec": {
   "display_name": "Python 3 (ipykernel)",
   "language": "python",
   "name": "python3"
  },
  "language_info": {
   "codemirror_mode": {
    "name": "ipython",
    "version": 3
   },
   "file_extension": ".py",
   "mimetype": "text/x-python",
   "name": "python",
   "nbconvert_exporter": "python",
   "pygments_lexer": "ipython3",
   "version": "3.9.12"
  }
 },
 "nbformat": 4,
 "nbformat_minor": 4
}
