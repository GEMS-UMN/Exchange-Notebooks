{
 "cells": [
  {
   "cell_type": "markdown",
   "metadata": {
    "collapsed": false,
    "jupyter": {
     "outputs_hidden": false
    }
   },
   "source": [
    "# GEMS daymet-v4r1 Tutorial"
   ]
  },
  {
   "cell_type": "markdown",
   "metadata": {
    "collapsed": false,
    "jupyter": {
     "outputs_hidden": false
    }
   },
   "source": [
    "### Section 1: Establish connection and explore available data"
   ]
  },
  {
   "cell_type": "code",
   "execution_count": 1,
   "metadata": {
    "ExecuteTime": {
     "end_time": "2023-06-22T21:11:17.370312Z",
     "start_time": "2023-06-22T21:11:14.684371500Z"
    }
   },
   "outputs": [],
   "source": [
    "# Imports used in this notebook\n",
    "from requests import Session\n",
    "\n",
    "import pandas as pd\n",
    "import rasterio\n",
    "import numpy as np\n",
    "from matplotlib import pyplot as plt\n",
    "\n",
    "# Import your API key from a file\n",
    "import sys\n",
    "sys.path.append('..')\n",
    "from api_key import key\n",
    "\n",
    "# Establish connection\n",
    "s = Session()\n",
    "api_url = 'https://exchange-1.gems.msi.umn.edu/climate/v2/daymet-v4r1'\n",
    "s.headers.update({'apikey': key})\n",
    "\n",
    "# Define bounding box by string of \"upper left lon, lat, bottom right lon, lat\" in decimal degrees, no spaces\n",
    "bbox = '-93.447444,48.65009,-88.83762,45.17553'\n",
    "\n",
    "# Sample AOI of the upper midwest\n",
    "aoi = {\"type\": \"Polygon\", \"coordinates\":\n",
    "     [[[-90.86257188625456, 46.88471631149375],\n",
    "       [-90.21090204846868, 47.84867191684921],\n",
    "       [-90.13229204839561, 47.986461643867216],\n",
    "       [-91.31830244956424, 47.81423854488315],\n",
    "       [-91.43583296326011, 47.408369403885246],\n",
    "       [-92.38327281856216, 46.879798020360425],\n",
    "       [-91.9971011307051, 46.54594590211718],\n",
    "       [-90.86257188625456, 46.88471631149375]]]}"
   ]
  },
  {
   "cell_type": "code",
   "execution_count": 2,
   "metadata": {
    "ExecuteTime": {
     "end_time": "2023-06-22T21:11:29.402151300Z",
     "start_time": "2023-06-22T21:11:29.167496100Z"
    },
    "collapsed": false,
    "jupyter": {
     "outputs_hidden": false
    }
   },
   "outputs": [
    {
     "data": {
      "text/html": [
       "<div>\n",
       "<style scoped>\n",
       "    .dataframe tbody tr th:only-of-type {\n",
       "        vertical-align: middle;\n",
       "    }\n",
       "\n",
       "    .dataframe tbody tr th {\n",
       "        vertical-align: top;\n",
       "    }\n",
       "\n",
       "    .dataframe thead th {\n",
       "        text-align: right;\n",
       "    }\n",
       "</style>\n",
       "<table border=\"1\" class=\"dataframe\">\n",
       "  <thead>\n",
       "    <tr style=\"text-align: right;\">\n",
       "      <th></th>\n",
       "      <th>name</th>\n",
       "      <th>units</th>\n",
       "      <th>description</th>\n",
       "      <th>discrete</th>\n",
       "      <th>id</th>\n",
       "    </tr>\n",
       "  </thead>\n",
       "  <tbody>\n",
       "    <tr>\n",
       "      <th>0</th>\n",
       "      <td>Snow water equivalent</td>\n",
       "      <td>kilograms per square meter</td>\n",
       "      <td>Snow water equivalent in kilograms per square ...</td>\n",
       "      <td>False</td>\n",
       "      <td>20</td>\n",
       "    </tr>\n",
       "    <tr>\n",
       "      <th>1</th>\n",
       "      <td>Maximum air temperature</td>\n",
       "      <td>degrees C</td>\n",
       "      <td>Daily maximum 2 m air temperature in degrees C...</td>\n",
       "      <td>False</td>\n",
       "      <td>21</td>\n",
       "    </tr>\n",
       "    <tr>\n",
       "      <th>2</th>\n",
       "      <td>Minimum air temperature</td>\n",
       "      <td>degrees C</td>\n",
       "      <td>Daily minimum 2 m air temperature in degrees C...</td>\n",
       "      <td>False</td>\n",
       "      <td>22</td>\n",
       "    </tr>\n",
       "    <tr>\n",
       "      <th>3</th>\n",
       "      <td>Precipitation</td>\n",
       "      <td>millimeters</td>\n",
       "      <td>Daily total precipitation in millimeters. Sum ...</td>\n",
       "      <td>False</td>\n",
       "      <td>24</td>\n",
       "    </tr>\n",
       "    <tr>\n",
       "      <th>4</th>\n",
       "      <td>Shortwave radiation</td>\n",
       "      <td>watts per square meter</td>\n",
       "      <td>Incident shortwave radiation flux density in w...</td>\n",
       "      <td>False</td>\n",
       "      <td>26</td>\n",
       "    </tr>\n",
       "    <tr>\n",
       "      <th>5</th>\n",
       "      <td>Water vapor pressure</td>\n",
       "      <td>pascals</td>\n",
       "      <td>Water vapor pressure in pascals. Daily average...</td>\n",
       "      <td>False</td>\n",
       "      <td>29</td>\n",
       "    </tr>\n",
       "    <tr>\n",
       "      <th>6</th>\n",
       "      <td>Day length</td>\n",
       "      <td>seconds per day</td>\n",
       "      <td>Duration of the daylight period in seconds per...</td>\n",
       "      <td>False</td>\n",
       "      <td>30</td>\n",
       "    </tr>\n",
       "  </tbody>\n",
       "</table>\n",
       "</div>"
      ],
      "text/plain": [
       "                      name                       units  \\\n",
       "0    Snow water equivalent  kilograms per square meter   \n",
       "1  Maximum air temperature                   degrees C   \n",
       "2  Minimum air temperature                   degrees C   \n",
       "3            Precipitation                 millimeters   \n",
       "4      Shortwave radiation      watts per square meter   \n",
       "5     Water vapor pressure                     pascals   \n",
       "6               Day length             seconds per day   \n",
       "\n",
       "                                         description  discrete  id  \n",
       "0  Snow water equivalent in kilograms per square ...     False  20  \n",
       "1  Daily maximum 2 m air temperature in degrees C...     False  21  \n",
       "2  Daily minimum 2 m air temperature in degrees C...     False  22  \n",
       "3  Daily total precipitation in millimeters. Sum ...     False  24  \n",
       "4  Incident shortwave radiation flux density in w...     False  26  \n",
       "5  Water vapor pressure in pascals. Daily average...     False  29  \n",
       "6  Duration of the daylight period in seconds per...     False  30  "
      ]
     },
     "metadata": {},
     "output_type": "display_data"
    }
   ],
   "source": [
    "# List available variables\n",
    "\n",
    "res = s.get(f'{api_url}/layer')\n",
    "variables = pd.json_normalize(res.json())\n",
    "display(variables)"
   ]
  },
  {
   "cell_type": "code",
   "execution_count": 3,
   "metadata": {
    "ExecuteTime": {
     "end_time": "2023-06-22T21:15:47.681754600Z",
     "start_time": "2023-06-22T21:15:47.607839800Z"
    }
   },
   "outputs": [
    {
     "name": "stdout",
     "output_type": "stream",
     "text": [
      "Raster ID: 182555\n"
     ]
    }
   ],
   "source": [
    "# Use the name of a variable to programmatically get its ID\n",
    "\n",
    "variable_id = variables.loc[variables['name'] == 'Water vapor pressure', 'id'].iloc[0]\n",
    "\n",
    "# Get ID for June, 1977 precipitation data\n",
    "params = {'layer': variable_id,\n",
    "          'begin': '2013-07-26',\n",
    "          'end': '2013-07-27'}\n",
    "\n",
    "raster_id = s.get(f'{api_url}/object/search', params=params).json()[0]['id']\n",
    "print('Raster ID:', raster_id)"
   ]
  },
  {
   "cell_type": "code",
   "execution_count": 4,
   "metadata": {
    "ExecuteTime": {
     "end_time": "2023-06-22T21:15:57.751464700Z",
     "start_time": "2023-06-22T21:15:57.697221900Z"
    },
    "collapsed": false,
    "jupyter": {
     "outputs_hidden": false
    }
   },
   "outputs": [
    {
     "data": {
      "text/html": [
       "<div>\n",
       "<style scoped>\n",
       "    .dataframe tbody tr th:only-of-type {\n",
       "        vertical-align: middle;\n",
       "    }\n",
       "\n",
       "    .dataframe tbody tr th {\n",
       "        vertical-align: top;\n",
       "    }\n",
       "\n",
       "    .dataframe thead th {\n",
       "        text-align: right;\n",
       "    }\n",
       "</style>\n",
       "<table border=\"1\" class=\"dataframe\">\n",
       "  <thead>\n",
       "    <tr style=\"text-align: right;\">\n",
       "      <th></th>\n",
       "      <th>id</th>\n",
       "      <th>grid_id</th>\n",
       "      <th>t_ranges</th>\n",
       "      <th>t_key</th>\n",
       "      <th>t_description</th>\n",
       "      <th>name</th>\n",
       "      <th>units</th>\n",
       "      <th>description</th>\n",
       "      <th>layer_id</th>\n",
       "    </tr>\n",
       "  </thead>\n",
       "  <tbody>\n",
       "    <tr>\n",
       "      <th>0</th>\n",
       "      <td>182555</td>\n",
       "      <td>3</td>\n",
       "      <td>[{'begin': '2013-07-26', 'end': '2013-07-27'}]</td>\n",
       "      <td>None</td>\n",
       "      <td>None</td>\n",
       "      <td>Water vapor pressure</td>\n",
       "      <td>pascals</td>\n",
       "      <td>Water vapor pressure in pascals. Daily average...</td>\n",
       "      <td>29</td>\n",
       "    </tr>\n",
       "  </tbody>\n",
       "</table>\n",
       "</div>"
      ],
      "text/plain": [
       "       id  grid_id                                        t_ranges t_key  \\\n",
       "0  182555        3  [{'begin': '2013-07-26', 'end': '2013-07-27'}]  None   \n",
       "\n",
       "  t_description                  name    units  \\\n",
       "0          None  Water vapor pressure  pascals   \n",
       "\n",
       "                                         description  layer_id  \n",
       "0  Water vapor pressure in pascals. Daily average...        29  "
      ]
     },
     "metadata": {},
     "output_type": "display_data"
    },
    {
     "name": "stdout",
     "output_type": "stream",
     "text": [
      "Variable name: Water vapor pressure \n",
      "Variable ID: 29 \n",
      "Raster ID: 182555 \n",
      "Description: Water vapor pressure in pascals. Daily average partial pressure of water vapor. \n",
      "Units: pascals \n",
      "Time range: {'begin': '2013-07-26', 'end': '2013-07-27'} \n",
      "Begin time: 2013-07-26 \n",
      "End time 2013-07-27\n"
     ]
    }
   ],
   "source": [
    "# Get metadata for a raster ID\n",
    "\n",
    "metadata = s.get(f'{api_url}/object/{raster_id}')\n",
    "metadata_df = pd.json_normalize(metadata.json())\n",
    "display(metadata_df)\n",
    "\n",
    "name = metadata_df['name'].iloc[0]\n",
    "layer_id = metadata_df['layer_id'].iloc[0]\n",
    "description = metadata_df['description'].iloc[0]\n",
    "units = metadata_df['units'].iloc[0]\n",
    "time_range = metadata_df['t_ranges'].iloc[0][0]\n",
    "t_start, t_end = time_range['begin'], time_range['end']\n",
    "print('Variable name:', name, '\\n'\n",
    "      'Variable ID:', layer_id, '\\n'\n",
    "      'Raster ID:', raster_id, '\\n'\n",
    "      'Description:', description, '\\n'\n",
    "      'Units:', units, '\\n'\n",
    "      'Time range:', time_range, '\\n'\n",
    "      'Begin time:', t_start, '\\n'\n",
    "      'End time', t_end\n",
    "      )"
   ]
  },
  {
   "cell_type": "markdown",
   "metadata": {
    "collapsed": false,
    "jupyter": {
     "outputs_hidden": false
    }
   },
   "source": [
    "### Section 2: Explore values for a single raster"
   ]
  },
  {
   "cell_type": "code",
   "execution_count": 5,
   "metadata": {
    "ExecuteTime": {
     "end_time": "2023-06-22T21:16:31.096406400Z",
     "start_time": "2023-06-22T21:16:30.887313800Z"
    }
   },
   "outputs": [
    {
     "name": "stdout",
     "output_type": "stream",
     "text": [
      "Raster value at 46.1, -93.7: 1370.81005859375\n"
     ]
    }
   ],
   "source": [
    "# Get the value at a lat, lon point\n",
    "\n",
    "params = {'lat': 46.1,\n",
    "          'lon': -93.7}\n",
    "\n",
    "point_value = s.get(f'{api_url}/object/{raster_id}/point', params=params).json()['value']\n",
    "print(f'Raster value at {params[\"lat\"]}, {params[\"lon\"]}:', point_value)"
   ]
  },
  {
   "cell_type": "code",
   "execution_count": 6,
   "metadata": {
    "ExecuteTime": {
     "end_time": "2023-06-22T21:16:40.616966400Z",
     "start_time": "2023-06-22T21:16:40.472464Z"
    },
    "collapsed": false,
    "jupyter": {
     "outputs_hidden": false
    }
   },
   "outputs": [
    {
     "data": {
      "text/html": [
       "<div>\n",
       "<style scoped>\n",
       "    .dataframe tbody tr th:only-of-type {\n",
       "        vertical-align: middle;\n",
       "    }\n",
       "\n",
       "    .dataframe tbody tr th {\n",
       "        vertical-align: top;\n",
       "    }\n",
       "\n",
       "    .dataframe thead th {\n",
       "        text-align: right;\n",
       "    }\n",
       "</style>\n",
       "<table border=\"1\" class=\"dataframe\">\n",
       "  <thead>\n",
       "    <tr style=\"text-align: right;\">\n",
       "      <th></th>\n",
       "      <th>count</th>\n",
       "      <th>sum</th>\n",
       "      <th>mean</th>\n",
       "      <th>stddev</th>\n",
       "      <th>min</th>\n",
       "      <th>max</th>\n",
       "    </tr>\n",
       "  </thead>\n",
       "  <tbody>\n",
       "    <tr>\n",
       "      <th>0</th>\n",
       "      <td>11756</td>\n",
       "      <td>1.435600e+07</td>\n",
       "      <td>1221.163743</td>\n",
       "      <td>113.60709</td>\n",
       "      <td>967.059998</td>\n",
       "      <td>1439.380005</td>\n",
       "    </tr>\n",
       "  </tbody>\n",
       "</table>\n",
       "</div>"
      ],
      "text/plain": [
       "   count           sum         mean     stddev         min          max\n",
       "0  11756  1.435600e+07  1221.163743  113.60709  967.059998  1439.380005"
      ]
     },
     "metadata": {},
     "output_type": "display_data"
    }
   ],
   "source": [
    "# Get summary statistics of values in a geoJSON area of interest\n",
    "# Any bounding box query can be converted to a geoJSON query\n",
    "# by changing the request type from 'get' to 'post', and\n",
    "# adding the 'json' keyword argument set to your geoJSON AOI\n",
    "#\n",
    "# Note if the result returned is 'None' is likely that your AOI\n",
    "# did not intersect the center of a cell. Try the point function.\n",
    "\n",
    "res = s.post(f'{api_url}/object/{raster_id}/stats', json=aoi)\n",
    "stats_df = pd.json_normalize(res.json())\n",
    "display(stats_df)"
   ]
  },
  {
   "cell_type": "code",
   "execution_count": 7,
   "metadata": {
    "ExecuteTime": {
     "end_time": "2023-06-22T21:16:53.344615700Z",
     "start_time": "2023-06-22T21:16:53.103692Z"
    },
    "collapsed": false,
    "jupyter": {
     "outputs_hidden": false
    }
   },
   "outputs": [
    {
     "data": {
      "text/html": [
       "<div>\n",
       "<style scoped>\n",
       "    .dataframe tbody tr th:only-of-type {\n",
       "        vertical-align: middle;\n",
       "    }\n",
       "\n",
       "    .dataframe tbody tr th {\n",
       "        vertical-align: top;\n",
       "    }\n",
       "\n",
       "    .dataframe thead th {\n",
       "        text-align: right;\n",
       "    }\n",
       "</style>\n",
       "<table border=\"1\" class=\"dataframe\">\n",
       "  <thead>\n",
       "    <tr style=\"text-align: right;\">\n",
       "      <th></th>\n",
       "      <th>quantile</th>\n",
       "      <th>value</th>\n",
       "    </tr>\n",
       "  </thead>\n",
       "  <tbody>\n",
       "    <tr>\n",
       "      <th>0</th>\n",
       "      <td>0.0</td>\n",
       "      <td>967.059998</td>\n",
       "    </tr>\n",
       "    <tr>\n",
       "      <th>1</th>\n",
       "      <td>0.1</td>\n",
       "      <td>1108.708960</td>\n",
       "    </tr>\n",
       "    <tr>\n",
       "      <th>2</th>\n",
       "      <td>0.3</td>\n",
       "      <td>1197.750000</td>\n",
       "    </tr>\n",
       "    <tr>\n",
       "      <th>3</th>\n",
       "      <td>0.5</td>\n",
       "      <td>1263.920044</td>\n",
       "    </tr>\n",
       "    <tr>\n",
       "      <th>4</th>\n",
       "      <td>0.9</td>\n",
       "      <td>1505.016003</td>\n",
       "    </tr>\n",
       "    <tr>\n",
       "      <th>5</th>\n",
       "      <td>1.0</td>\n",
       "      <td>1743.180054</td>\n",
       "    </tr>\n",
       "  </tbody>\n",
       "</table>\n",
       "</div>"
      ],
      "text/plain": [
       "   quantile        value\n",
       "0       0.0   967.059998\n",
       "1       0.1  1108.708960\n",
       "2       0.3  1197.750000\n",
       "3       0.5  1263.920044\n",
       "4       0.9  1505.016003\n",
       "5       1.0  1743.180054"
      ]
     },
     "metadata": {},
     "output_type": "display_data"
    }
   ],
   "source": [
    "# Calculate the quantiles of the raster cell values in a bounding box\n",
    "\n",
    "params = {'bbox': bbox,\n",
    "          'q': [0, 0.1, 0.3, 0.5, 0.9, 1]} # Omit 'q' parameter for default of [0, 0.25, 0.5, 0.75, 1]\n",
    "res = s.get(f'{api_url}/object/{raster_id}/quantiles', params=params)\n",
    "quantiles_df = pd.json_normalize(res.json())\n",
    "display(quantiles_df)"
   ]
  },
  {
   "cell_type": "code",
   "execution_count": 8,
   "metadata": {
    "ExecuteTime": {
     "end_time": "2023-06-22T21:17:01.711501100Z",
     "start_time": "2023-06-22T21:17:01.267196Z"
    },
    "collapsed": false,
    "jupyter": {
     "outputs_hidden": false
    }
   },
   "outputs": [
    {
     "data": {
      "text/html": [
       "<div>\n",
       "<style scoped>\n",
       "    .dataframe tbody tr th:only-of-type {\n",
       "        vertical-align: middle;\n",
       "    }\n",
       "\n",
       "    .dataframe tbody tr th {\n",
       "        vertical-align: top;\n",
       "    }\n",
       "\n",
       "    .dataframe thead th {\n",
       "        text-align: right;\n",
       "    }\n",
       "</style>\n",
       "<table border=\"1\" class=\"dataframe\">\n",
       "  <thead>\n",
       "    <tr style=\"text-align: right;\">\n",
       "      <th></th>\n",
       "      <th>min</th>\n",
       "      <th>max</th>\n",
       "      <th>count</th>\n",
       "      <th>percent</th>\n",
       "    </tr>\n",
       "  </thead>\n",
       "  <tbody>\n",
       "    <tr>\n",
       "      <th>0</th>\n",
       "      <td>967.059998</td>\n",
       "      <td>1053.295559</td>\n",
       "      <td>4057</td>\n",
       "      <td>0.029959</td>\n",
       "    </tr>\n",
       "    <tr>\n",
       "      <th>1</th>\n",
       "      <td>1053.295559</td>\n",
       "      <td>1139.531121</td>\n",
       "      <td>15317</td>\n",
       "      <td>0.113107</td>\n",
       "    </tr>\n",
       "    <tr>\n",
       "      <th>2</th>\n",
       "      <td>1139.531121</td>\n",
       "      <td>1225.766683</td>\n",
       "      <td>32814</td>\n",
       "      <td>0.242313</td>\n",
       "    </tr>\n",
       "    <tr>\n",
       "      <th>3</th>\n",
       "      <td>1225.766683</td>\n",
       "      <td>1312.002245</td>\n",
       "      <td>32232</td>\n",
       "      <td>0.238015</td>\n",
       "    </tr>\n",
       "    <tr>\n",
       "      <th>4</th>\n",
       "      <td>1312.002245</td>\n",
       "      <td>1398.237807</td>\n",
       "      <td>22584</td>\n",
       "      <td>0.166770</td>\n",
       "    </tr>\n",
       "    <tr>\n",
       "      <th>5</th>\n",
       "      <td>1398.237807</td>\n",
       "      <td>1484.473368</td>\n",
       "      <td>12332</td>\n",
       "      <td>0.091065</td>\n",
       "    </tr>\n",
       "    <tr>\n",
       "      <th>6</th>\n",
       "      <td>1484.473368</td>\n",
       "      <td>1570.708930</td>\n",
       "      <td>9933</td>\n",
       "      <td>0.073350</td>\n",
       "    </tr>\n",
       "    <tr>\n",
       "      <th>7</th>\n",
       "      <td>1570.708930</td>\n",
       "      <td>1656.944492</td>\n",
       "      <td>4419</td>\n",
       "      <td>0.032632</td>\n",
       "    </tr>\n",
       "    <tr>\n",
       "      <th>8</th>\n",
       "      <td>1656.944492</td>\n",
       "      <td>1743.180054</td>\n",
       "      <td>1732</td>\n",
       "      <td>0.012790</td>\n",
       "    </tr>\n",
       "  </tbody>\n",
       "</table>\n",
       "</div>"
      ],
      "text/plain": [
       "           min          max  count   percent\n",
       "0   967.059998  1053.295559   4057  0.029959\n",
       "1  1053.295559  1139.531121  15317  0.113107\n",
       "2  1139.531121  1225.766683  32814  0.242313\n",
       "3  1225.766683  1312.002245  32232  0.238015\n",
       "4  1312.002245  1398.237807  22584  0.166770\n",
       "5  1398.237807  1484.473368  12332  0.091065\n",
       "6  1484.473368  1570.708930   9933  0.073350\n",
       "7  1570.708930  1656.944492   4419  0.032632\n",
       "8  1656.944492  1743.180054   1732  0.012790"
      ]
     },
     "metadata": {},
     "output_type": "display_data"
    },
    {
     "data": {
      "image/png": "[encoded data removed]",
      "text/plain": [
       "<Figure size 640x480 with 1 Axes>"
      ]
     },
     "metadata": {},
     "output_type": "display_data"
    }
   ],
   "source": [
    "# Make a histogram raster cell values in a bounding box\n",
    "\n",
    "params = {'bbox': bbox,\n",
    "          'nbin': 9} # Omit 'nbin' parameter for default of 14\n",
    "res = s.get(f'{api_url}/object/{raster_id}/histogram', params=params)\n",
    "df = pd.json_normalize(res.json())\n",
    "display(df)\n",
    "\n",
    "# The dataframe returned is already formatted as a histogram, so we plot it as a bar chart\n",
    "bar_width = df['max'].iloc[0] # Set bar width equal to bin size\n",
    "plt.bar(df['max']-(bar_width/2), df['count'], width=bar_width)\n",
    "plt.show()"
   ]
  },
  {
   "cell_type": "markdown",
   "metadata": {
    "collapsed": false,
    "jupyter": {
     "outputs_hidden": false
    }
   },
   "source": [
    "### Section 3: View and download a subset of an individual raster"
   ]
  },
  {
   "cell_type": "code",
   "execution_count": 9,
   "metadata": {
    "ExecuteTime": {
     "end_time": "2023-06-22T21:17:10.380641800Z",
     "start_time": "2023-06-22T21:17:09.762852100Z"
    },
    "collapsed": false,
    "jupyter": {
     "outputs_hidden": false
    }
   },
   "outputs": [
    {
     "data": {
      "image/png": "[encoded data removed]",
      "text/plain": [
       "<Figure size 640x480 with 2 Axes>"
      ]
     },
     "metadata": {},
     "output_type": "display_data"
    }
   ],
   "source": [
    "# Visualize the area of a raster within a bounding box\n",
    "\n",
    "params = {'bbox': bbox}\n",
    "res = s.get(f'{api_url}/object/{raster_id}/raster', params=params)\n",
    "\n",
    "# Open the response as a memory file and plot it\n",
    "with rasterio.MemoryFile(res.content) as memfile:\n",
    "    with memfile.open() as dataset:\n",
    "        data = dataset.read(1)\n",
    "        palette = plt.cm.gray_r.copy()\n",
    "        plt.imshow(data, cmap=palette)\n",
    "        plt.title(f'{name} \\n {t_start} to {t_end}')\n",
    "        plt.colorbar(label=units)\n",
    "    plt.show()"
   ]
  },
  {
   "cell_type": "code",
   "execution_count": 10,
   "metadata": {
    "ExecuteTime": {
     "end_time": "2023-06-22T21:17:25.649315300Z",
     "start_time": "2023-06-22T21:17:25.286956Z"
    },
    "collapsed": false,
    "jupyter": {
     "outputs_hidden": false
    }
   },
   "outputs": [],
   "source": [
    "# Download a subset of the raster defined by a bounding box\n",
    "\n",
    "params= {'bbox': bbox}\n",
    "\n",
    "res = s.get(f'{api_url}/object/{raster_id}/raster', params=params)\n",
    "out_path = 'raster_subset.tif' # Change to a local path\n",
    "\n",
    "with rasterio.MemoryFile(res.content) as memfile:\n",
    "    with memfile.open() as raster:\n",
    "        with rasterio.open(out_path, 'w', **raster.profile) as dst:\n",
    "            dst.write(raster.read(1), 1) # Read the first band (DEM data are single band) of the raster and write to first band of file"
   ]
  },
  {
   "cell_type": "markdown",
   "metadata": {
    "collapsed": false,
    "jupyter": {
     "outputs_hidden": false
    }
   },
   "source": [
    "### Section 4: Create tabular time series data for an AOI"
   ]
  },
  {
   "cell_type": "code",
   "execution_count": 11,
   "metadata": {
    "ExecuteTime": {
     "end_time": "2023-06-22T21:33:06.013793300Z",
     "start_time": "2023-06-22T21:33:03.696893100Z"
    },
    "collapsed": false,
    "jupyter": {
     "outputs_hidden": false
    }
   },
   "outputs": [
    {
     "data": {
      "text/html": [
       "<div>\n",
       "<style scoped>\n",
       "    .dataframe tbody tr th:only-of-type {\n",
       "        vertical-align: middle;\n",
       "    }\n",
       "\n",
       "    .dataframe tbody tr th {\n",
       "        vertical-align: top;\n",
       "    }\n",
       "\n",
       "    .dataframe thead th {\n",
       "        text-align: right;\n",
       "    }\n",
       "</style>\n",
       "<table border=\"1\" class=\"dataframe\">\n",
       "  <thead>\n",
       "    <tr style=\"text-align: right;\">\n",
       "      <th></th>\n",
       "      <th>Precipitation</th>\n",
       "      <th>Water vapor pressure</th>\n",
       "      <th>Maximum air temperature</th>\n",
       "    </tr>\n",
       "    <tr>\n",
       "      <th>time</th>\n",
       "      <th></th>\n",
       "      <th></th>\n",
       "      <th></th>\n",
       "    </tr>\n",
       "  </thead>\n",
       "  <tbody>\n",
       "    <tr>\n",
       "      <th>2013-07-20</th>\n",
       "      <td>0.000000</td>\n",
       "      <td>1264.261152</td>\n",
       "      <td>20.170457</td>\n",
       "    </tr>\n",
       "    <tr>\n",
       "      <th>2013-07-21</th>\n",
       "      <td>0.740538</td>\n",
       "      <td>1027.134343</td>\n",
       "      <td>19.528690</td>\n",
       "    </tr>\n",
       "    <tr>\n",
       "      <th>2013-07-22</th>\n",
       "      <td>0.021253</td>\n",
       "      <td>1257.624831</td>\n",
       "      <td>26.901226</td>\n",
       "    </tr>\n",
       "    <tr>\n",
       "      <th>2013-07-23</th>\n",
       "      <td>0.000000</td>\n",
       "      <td>1274.540301</td>\n",
       "      <td>21.671655</td>\n",
       "    </tr>\n",
       "    <tr>\n",
       "      <th>2013-07-24</th>\n",
       "      <td>0.671538</td>\n",
       "      <td>1185.354675</td>\n",
       "      <td>22.262554</td>\n",
       "    </tr>\n",
       "    <tr>\n",
       "      <th>2013-07-25</th>\n",
       "      <td>7.618187</td>\n",
       "      <td>1389.670591</td>\n",
       "      <td>22.526518</td>\n",
       "    </tr>\n",
       "    <tr>\n",
       "      <th>2013-07-26</th>\n",
       "      <td>5.781097</td>\n",
       "      <td>1221.163743</td>\n",
       "      <td>15.166104</td>\n",
       "    </tr>\n",
       "    <tr>\n",
       "      <th>2013-07-27</th>\n",
       "      <td>4.145497</td>\n",
       "      <td>1003.346011</td>\n",
       "      <td>13.041616</td>\n",
       "    </tr>\n",
       "    <tr>\n",
       "      <th>2013-07-28</th>\n",
       "      <td>0.602854</td>\n",
       "      <td>1154.825908</td>\n",
       "      <td>20.072685</td>\n",
       "    </tr>\n",
       "    <tr>\n",
       "      <th>2013-07-29</th>\n",
       "      <td>0.949087</td>\n",
       "      <td>1076.356598</td>\n",
       "      <td>22.302239</td>\n",
       "    </tr>\n",
       "    <tr>\n",
       "      <th>2013-07-30</th>\n",
       "      <td>1.338912</td>\n",
       "      <td>1304.935836</td>\n",
       "      <td>20.468992</td>\n",
       "    </tr>\n",
       "    <tr>\n",
       "      <th>2013-07-31</th>\n",
       "      <td>0.062170</td>\n",
       "      <td>1469.724297</td>\n",
       "      <td>24.481526</td>\n",
       "    </tr>\n",
       "    <tr>\n",
       "      <th>2013-08-01</th>\n",
       "      <td>5.001307</td>\n",
       "      <td>1420.698941</td>\n",
       "      <td>23.739747</td>\n",
       "    </tr>\n",
       "    <tr>\n",
       "      <th>2013-08-02</th>\n",
       "      <td>0.031307</td>\n",
       "      <td>1282.758750</td>\n",
       "      <td>23.571275</td>\n",
       "    </tr>\n",
       "    <tr>\n",
       "      <th>2013-08-03</th>\n",
       "      <td>0.000000</td>\n",
       "      <td>1186.309593</td>\n",
       "      <td>22.539713</td>\n",
       "    </tr>\n",
       "    <tr>\n",
       "      <th>2013-08-04</th>\n",
       "      <td>5.674359</td>\n",
       "      <td>1078.104350</td>\n",
       "      <td>21.627449</td>\n",
       "    </tr>\n",
       "  </tbody>\n",
       "</table>\n",
       "</div>"
      ],
      "text/plain": [
       "            Precipitation  Water vapor pressure  Maximum air temperature\n",
       "time                                                                    \n",
       "2013-07-20       0.000000           1264.261152                20.170457\n",
       "2013-07-21       0.740538           1027.134343                19.528690\n",
       "2013-07-22       0.021253           1257.624831                26.901226\n",
       "2013-07-23       0.000000           1274.540301                21.671655\n",
       "2013-07-24       0.671538           1185.354675                22.262554\n",
       "2013-07-25       7.618187           1389.670591                22.526518\n",
       "2013-07-26       5.781097           1221.163743                15.166104\n",
       "2013-07-27       4.145497           1003.346011                13.041616\n",
       "2013-07-28       0.602854           1154.825908                20.072685\n",
       "2013-07-29       0.949087           1076.356598                22.302239\n",
       "2013-07-30       1.338912           1304.935836                20.468992\n",
       "2013-07-31       0.062170           1469.724297                24.481526\n",
       "2013-08-01       5.001307           1420.698941                23.739747\n",
       "2013-08-02       0.031307           1282.758750                23.571275\n",
       "2013-08-03       0.000000           1186.309593                22.539713\n",
       "2013-08-04       5.674359           1078.104350                21.627449"
      ]
     },
     "metadata": {},
     "output_type": "display_data"
    }
   ],
   "source": [
    "# Use the search function to pull all data for two variables between two dates.\n",
    "# Then construct a dataframe.\n",
    "\n",
    "var_list = ['Precipitation',\n",
    "            'Water vapor pressure',\n",
    "            'Maximum air temperature']\n",
    "\n",
    "res = s.get(f'{api_url}/layer').json()\n",
    "variables = pd.json_normalize(res)\n",
    "\n",
    "start_date = '2013-07-20'\n",
    "end_date = '2013-08-05'\n",
    "\n",
    "columns = []\n",
    "for var in var_list:\n",
    "    var_id = variables.loc[variables['name'] == var, 'id'].iloc[0]\n",
    "\n",
    "    params = {'layer': var_id,\n",
    "              'begin': start_date,\n",
    "              'end': end_date}\n",
    "\n",
    "    rasters = s.get(f'{api_url}/object/search', params=params).json()\n",
    "\n",
    "    raster_attributes = []\n",
    "    for raster in rasters:\n",
    "        raster_attributes.append({'time': raster['t_ranges'][0]['begin'], 'id': raster['id']})\n",
    "\n",
    "    column = []\n",
    "    for raster in raster_attributes:\n",
    "        var_value = s.post(f'{api_url}/object/{raster[\"id\"]}/stats', json=aoi).json()['mean']\n",
    "        row = {'time': raster['time'], var: var_value}\n",
    "        column.append(row)\n",
    "    column = pd.DataFrame.from_dict(column).set_index('time')\n",
    "    columns.append(column)\n",
    "\n",
    "df = pd.concat(columns, axis=1, join='inner')\n",
    "display(df)"
   ]
  }
 ],
 "metadata": {
  "kernelspec": {
   "display_name": "Python 3 (ipykernel)",
   "language": "python",
   "name": "python3"
  },
  "language_info": {
   "codemirror_mode": {
    "name": "ipython",
    "version": 3
   },
   "file_extension": ".py",
   "mimetype": "text/x-python",
   "name": "python",
   "nbconvert_exporter": "python",
   "pygments_lexer": "ipython3",
   "version": "3.9.12"
  }
 },
 "nbformat": 4,
 "nbformat_minor": 4
}
