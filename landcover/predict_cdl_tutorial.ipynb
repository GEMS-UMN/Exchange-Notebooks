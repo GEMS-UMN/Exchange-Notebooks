{
 "cells": [
  {
   "cell_type": "markdown",
   "id": "stuck-country",
   "metadata": {},
   "source": [
    "## GEMS CDL Usage Example\n",
    "\n",
    "### Set up an HTTP client using Python's request library\n",
    "We use a Session object to store our API key and automatically include it in the header for each request. Note that we have a `api_key.py` file in the Exchange-Notebooks directory. The file contains only the below line.\n",
    "```\n",
    "api_key = 'SECRET'\n",
    "```"
   ]
  },
  {
   "cell_type": "code",
   "execution_count": 1,
   "id": "wicked-trunk",
   "metadata": {},
   "outputs": [],
   "source": [
    "import numpy as np\n",
    "import pandas as pd\n",
    "import sys\n",
    "import rasterio\n",
    "import yaml\n",
    "import matplotlib.patches as mpatches\n",
    "\n",
    "from base64 import b16encode\n",
    "from matplotlib import pyplot as plt\n",
    "from matplotlib.colors import ListedColormap\n",
    "from requests import Session\n",
    "from mpl_toolkits.axes_grid1 import make_axes_locatable\n",
    "\n",
    "sys.path.append('/home/riss/jathomps/projects/iaa_gems/gems_visualizations/')\n",
    "import cm_xml_to_matplotlib as cm\n",
    "# sys.path.append('..')\n",
    "# from api_key import api_key\n",
    "\n",
    "# s = Session()\n",
    "# s.headers.update({'apikey': api_key})\n",
    "# url = \"https://exchange-1.gems.msi.umn.edu/landcover/v2\"\n",
    "# dataset = \"predict-cdl\""
   ]
  },
  {
   "cell_type": "code",
   "execution_count": 2,
   "id": "9f5e2e72-3342-469e-9df4-1f68c19d897f",
   "metadata": {},
   "outputs": [],
   "source": [
    "keys = yaml.load(open('/home/riss/jathomps/api_keys.yaml'), Loader=yaml.FullLoader)\n",
    "api_key = keys['gems']['apikey']"
   ]
  },
  {
   "cell_type": "code",
   "execution_count": 3,
   "id": "79fbb29c-beac-4c54-a9b4-da952ce6369a",
   "metadata": {},
   "outputs": [],
   "source": [
    "s = Session()\n",
    "s.headers.update({'apikey': api_key})\n",
    "url = \"https://exchange-1.gems.msi.umn.edu/landcover/v2\"\n",
    "dataset = \"predict-cdl\""
   ]
  },
  {
   "cell_type": "markdown",
   "id": "stopped-coach",
   "metadata": {},
   "source": [
    "### Metadata"
   ]
  },
  {
   "cell_type": "code",
   "execution_count": 4,
   "id": "prescription-brain",
   "metadata": {},
   "outputs": [],
   "source": [
    "classes = {1 : \"Corn\", 2 : \"Cotton\", 3 : \"Rice\", 4 : \"Sorghum\", 5 : \"Soybeans\", 6 : \"Sunflower\",\n",
    "           10 : \"Peanuts\", 11 : \"Tobacco\", 12 : \"Sweet Corn\", 13 : \"Pop or Orn Corn\", 14 : \"Mint\", 21 : \"Barley\",\n",
    "           22 : \"Durum Wheat\", 23 : \"Spring Wheat\", 24 : \"Winter Wheat\", 25 : \"Other Small Grains\", \n",
    "           26 : \"Dbl Crop WinWht/Soybeans\", 27 : \"Rye\", 28 : \"Oats\", 29 : \"Millet\", 30 : \"Speltz\",\n",
    "           31 : \"Canola\", 32 : \"Flaxseed\", 33 : \"Safflower\", 34 : \"Rape Seed\", 35 : \"Mustard\",\n",
    "           36 : \"Alfalfa\", 37 : \"Other Hay-Non Alfalfa\", 38 : \"Camelina\", 39 : \"Buckwheat\", 41 : \"Sugarbeets\",\n",
    "           42 : \"Dry Beans\", 43 : \"Potatoes\", 44 : \"Other Crops\", 45 : \"Sugarcane\", 46 : \"Sweet Potatoes\",\n",
    "           47 : \"Misc Vegs & Fruits\", 48 : \"Watermelons\", 49 : \"Onions\", 50 : \"Cucumbers\", 51 : \"Chick Peas\",\n",
    "           52 : \"Lentils\", 53 : \"Peas\", 54 : \"Tomatoes\", 55 : \"Caneberries\", 56 : \"Hops\", 57 : \"Herbs\",\n",
    "           58 : \"Clover/Wildflowers\", 59 : \"Sod/Grass Seed\", 60 : \"Switchgrass\", 61 : \"Fallow-Idle Cropland\",\n",
    "           63 : \"Forest\", 64 : \"Shrubland\", 65 : \"Barren\", 66 : \"Cherries\", 67 : \"Peaches\", 68 : \"Apples\",\n",
    "           69 : \"Grapes\", 70 : \"Christmas Trees\", 71 : \"Other Tree Crops\", 72 : \"Citrus\", 74 : \"Pecans\",\n",
    "           75 : \"Almonds\", 76 : \"Walnuts\", 77 : \"Pears\", 81 : \"Clouds-No Data\", 82 : \"Developed\",\n",
    "           83 : \"Water\", 87 : \"Wetlands\", 88 : \"Nonag/Undefined\", 92 : \"Aquaculture\", 111 : \"Open Water\",\n",
    "           112 : \"Perennial Ice/Snow\", 121 : \"Developed/Open Space\", 122 : \"Developed/Low Intensity\",\n",
    "           123 : \"Developed/Med Intensity\", 124 : \"Developed/High Intensity\", 131 : \"Barren\", 141 : \"Deciduous Forest\",\n",
    "           142 : \"Evergreen Forest\", 143 : \"Mixed Forest\", 152 : \"Shrubland\", 176 : \"Grassland/Pasture\",\n",
    "           190 : \"Woody Wetlands\", 195 : \"Herbaceous Wetlands\", 204 : \"Pistachios\", 205 : \"Triticale\",\n",
    "           206 : \"Carrots\", 207 : \"Asparagus\", 208 : \"Garlic\", 209 : \"Cantaloupes\", 210 : \"Prunes\", 211 : \"Olives\",\n",
    "           212 : \"Oranges\", 213 : \"Honeydew Melons\", 214 : \"Broccoli\", 215 : \"Avocados\", 216 : \"Peppers\",\n",
    "           217 : \"Pomegranates\", 218 : \"Nectarines\", 219 : \"Greens\", 220 : \"Plums\", 221 : \"Strawberries\",\n",
    "           222 : \"Squash\", 223 : \"Apricots\", 224 : \"Vetch\", 225 : \"Dbl Crop WinWht/Corn\", 226 : \"Dbl Crop Oats/Corn\",\n",
    "           227 : \"Lettuce\", 228 : \"Dbl Crop Triticale/Corn\", 229 : \"Pumpkins\", 230 : \"Dbl Crop Lettuce/Durum Wht\",\n",
    "           231 : \"Dbl Crop Lettuce/Cantaloupe\", 232 : \"Dbl Crop Lettuce/Cotton\", 233 : \"Dbl Crop Lettuce/Barley\",\n",
    "           234 : \"Dbl Crop Durum Wht/Sorghum\", 235 : \"Dbl Crop Barley/Sorghum\", 236 : \"Dbl Crop WinWht/Sorghum\",\n",
    "           237 : \"Dbl Crop Barley/Corn\", 238 : \"Dbl Crop WinWht/Cotton\", 239 : \"Dbl Crop Soybeans/Cotton\",\n",
    "           240 : \"Dbl Crop Soybeans/Oats\", 241 : \"Dbl Crop Corn/Soybeans\", 242 : \"Blueberries\", 243 : \"Cabbage\",\n",
    "           244 : \"Cauliflower\", 245 : \"Celery\", 246 : \"Radishes\", 247 : \"Turnips\", 248 : \"Eggplants\",\n",
    "           249 : \"Gourds\", 250 : \"Cranberries\", 254: \"Dbl Crop Barley/Soybeans\", 0 : \"NoData\"}"
   ]
  },
  {
   "cell_type": "code",
   "execution_count": 5,
   "id": "charged-alexandria",
   "metadata": {},
   "outputs": [],
   "source": [
    "palette = {0: (0, 0, 0), 1: (255, 212, 0), 2: (255, 38, 38), 3: (0, 168, 227), 4: (255, 158, 9), 5: (38, 112, 0), 6: (255, 255, 0), \n",
    "           7: (0, 0, 0), 8: (0, 0, 0), 9: (0, 0, 0), 10: (112, 166, 0), 11: (0, 176, 74), 12: (222, 166, 9), 13: (222, 166, 9), \n",
    "           14: (125, 212, 255), 15: (0, 0, 0), 16: (0, 0, 0), 17: (0, 0, 0), 18: (0, 0, 0), 19: (0, 0, 0), 20: (0, 0, 0), 21: (227, 0, 125), \n",
    "           22: (138, 97, 84), 23: (217, 181, 107), 24: (166, 112, 0), 25: (214, 158, 189), 26: (112, 112, 0), 27: (171, 0, 125), 28: (161, 89, 138),\n",
    "           29: (112, 0, 74), 30: (214, 158, 189), 31: (209, 255, 0), 32: (125, 153, 255), 33: (214, 214, 0), 34: (209, 255, 0), 35: (0, 176, 74), \n",
    "           36: (255, 166, 227), 37: (166, 242, 140), 38: (0, 176, 74), 39: (214, 158, 189), 40: (0, 176, 74), 41: (168, 0, 227), 42: (166, 0, 0), \n",
    "           43: (112, 38, 0), 44: (0, 176, 74), 45: (176, 125, 255), 46: (112, 38, 0), 47: (255, 102, 102), 48: (255, 102, 102), 49: (255, 204, 102), \n",
    "           50: (255, 102, 102), 51: (0, 176, 74), 52: (0, 222, 176), 53: (84, 255, 0), 54: (242, 163, 120), 55: (255, 102, 102), 56: (0, 176, 74), \n",
    "           57: (125, 212, 255), 58: (232, 191, 255), 59: (176, 255, 222), 60: (0, 176, 74), 61: (191, 191, 120), 62: (0, 0, 0), 63: (148, 204, 148), \n",
    "           64: (199, 214, 158), 65: (204, 191, 163), 66: (255, 0, 255), 67: (255, 143, 171), 68: (186, 0, 79), 69: (112, 69, 138), 70: (0, 120, 120), \n",
    "           71: (176, 153, 112), 72: (255, 255, 125), 73: (0, 0, 0), 74: (181, 112, 92), 75: (0, 166, 130), 76: (232, 214, 176), 77: (176, 153, 112), \n",
    "           78: (0, 0, 0), 79: (0, 0, 0), 80: (0, 0, 0), 81: (242, 242, 242), 82: (153, 153, 153), 83: (74, 112, 163), 84: (0, 0, 0), 85: (0, 0, 0), \n",
    "           86: (0, 0, 0), 87: (125, 176, 176), 88: (232, 255, 191), 89: (0, 0, 0), 90: (0, 0, 0), 91: (0, 0, 0), 92: (0, 255, 255), 93: (0, 0, 0), \n",
    "           94: (0, 0, 0), 95: (0, 0, 0), 96: (0, 0, 0), 97: (0, 0, 0), 98: (0, 0, 0), 99: (0, 0, 0), 100: (0, 0, 0), 101: (0, 0, 0), 102: (0, 0, 0), \n",
    "           103: (0, 0, 0), 104: (0, 0, 0), 105: (0, 0, 0), 106: (0, 0, 0), 107: (0, 0, 0), 108: (0, 0, 0), 109: (0, 0, 0), 110: (0, 0, 0), \n",
    "           111: (74, 112, 163), 112: (212, 227, 250), 113: (0, 0, 0), 114: (0, 0, 0), 115: (0, 0, 0), 116: (0, 0, 0), 117: (0, 0, 0), 118: (0, 0, 0), \n",
    "           119: (0, 0, 0), 120: (0, 0, 0), 121: (153, 153, 153), 122: (153, 153, 153), 123: (153, 153, 153), 124: (153, 153, 153), 125: (0, 0, 0), \n",
    "           126: (0, 0, 0), 127: (0, 0, 0), 128: (0, 0, 0), 129: (0, 0, 0), 130: (0, 0, 0), 131: (204, 191, 163), 132: (0, 0, 0), 133: (0, 0, 0), \n",
    "           134: (0, 0, 0), 135: (0, 0, 0), 136: (0, 0, 0), 137: (0, 0, 0), 138: (0, 0, 0), 139: (0, 0, 0), 140: (0, 0, 0), 141: (148, 204, 148), \n",
    "           142: (148, 204, 148), 143: (148, 204, 148), 144: (0, 0, 0), 145: (0, 0, 0), 146: (0, 0, 0), 147: (0, 0, 0), 148: (0, 0, 0), 149: (0, 0, 0), \n",
    "           150: (0, 0, 0), 151: (0, 0, 0), 152: (199, 214, 158), 153: (0, 0, 0), 154: (0, 0, 0), 155: (0, 0, 0), 156: (0, 0, 0), 157: (0, 0, 0), \n",
    "           158: (0, 0, 0), 159: (0, 0, 0), 160: (0, 0, 0), 161: (0, 0, 0), 162: (0, 0, 0), 163: (0, 0, 0), 164: (0, 0, 0), 165: (0, 0, 0), \n",
    "           166: (0, 0, 0), 167: (0, 0, 0), 168: (0, 0, 0), 169: (0, 0, 0), 170: (0, 0, 0), 171: (0, 0, 0), 172: (0, 0, 0), 173: (0, 0, 0), \n",
    "           174: (0, 0, 0), 175: (0, 0, 0), 176: (232, 255, 191), 177: (0, 0, 0), 178: (0, 0, 0), 179: (0, 0, 0), 180: (0, 0, 0), 181: (0, 0, 0), \n",
    "           182: (0, 0, 0), 183: (0, 0, 0), 184: (0, 0, 0), 185: (0, 0, 0), 186: (0, 0, 0), 187: (0, 0, 0), 188: (0, 0, 0), 189: (0, 0, 0), \n",
    "           190: (125, 176, 176), 191: (0, 0, 0), 192: (0, 0, 0), 193: (0, 0, 0), 194: (0, 0, 0), 195: (125, 176, 176), 196: (0, 0, 0), \n",
    "           197: (0, 0, 0), 198: (0, 0, 0), 199: (0, 0, 0), 200: (0, 0, 0), 201: (0, 0, 0), 202: (0, 0, 0), 203: (0, 0, 0), 204: (0, 255, 140), \n",
    "           205: (214, 158, 189), 206: (255, 102, 102), 207: (255, 102, 102), 208: (255, 102, 102), 209: (255, 102, 102), 210: (255, 143, 171), \n",
    "           211: (51, 74, 51), 212: (227, 112, 38), 213: (255, 102, 102), 214: (255, 102, 102), 215: (102, 153, 77), 216: (255, 102, 102), \n",
    "           217: (176, 153, 112), 218: (255, 143, 171), 219: (255, 102, 102), 220: (255, 143, 171), 221: (255, 102, 102), 222: (255, 102, 102), \n",
    "           223: (255, 143, 171), 224: (0, 176, 74), 225: (255, 212, 0), 226: (255, 212, 0), 227: (255, 102, 102), 228: (255, 212, 0), \n",
    "           229: (255, 102, 102), 230: (138, 97, 84), 231: (255, 102, 102), 232: (255, 38, 38), 233: (227, 0, 125), 234: (255, 158, 9), \n",
    "           235: (255, 158, 9), 236: (166, 112, 0), 237: (255, 212, 0), 238: (166, 112, 0), 239: (38, 112, 0), 240: (38, 112, 0), 241: (255, 212, 0), \n",
    "           242: (0, 0, 153), 243: (255, 102, 102), 244: (255, 102, 102), 245: (255, 102, 102), 246: (255, 102, 102), 247: (255, 102, 102), \n",
    "           248: (255, 102, 102), 249: (255, 102, 102), 250: (255, 102, 102), 251: (0, 0, 0), 252: (0, 0, 0), 253: (0, 0, 0), 254: (38, 112, 0), \n",
    "           255: (0, 0, 0)}"
   ]
  },
  {
   "cell_type": "markdown",
   "id": "neural-motor",
   "metadata": {},
   "source": [
    "### List available layers for `CDL` dataset"
   ]
  },
  {
   "cell_type": "code",
   "execution_count": 6,
   "id": "nonprofit-customer",
   "metadata": {},
   "outputs": [
    {
     "data": {
      "text/html": [
       "<div>\n",
       "<style scoped>\n",
       "    .dataframe tbody tr th:only-of-type {\n",
       "        vertical-align: middle;\n",
       "    }\n",
       "\n",
       "    .dataframe tbody tr th {\n",
       "        vertical-align: top;\n",
       "    }\n",
       "\n",
       "    .dataframe thead th {\n",
       "        text-align: right;\n",
       "    }\n",
       "</style>\n",
       "<table border=\"1\" class=\"dataframe\">\n",
       "  <thead>\n",
       "    <tr style=\"text-align: right;\">\n",
       "      <th></th>\n",
       "      <th>name</th>\n",
       "      <th>units</th>\n",
       "      <th>description</th>\n",
       "      <th>discrete</th>\n",
       "      <th>id</th>\n",
       "    </tr>\n",
       "  </thead>\n",
       "  <tbody>\n",
       "    <tr>\n",
       "      <th>0</th>\n",
       "      <td>croptype-MN</td>\n",
       "      <td>unitless</td>\n",
       "      <td>Predicted croptype for USDA Cropland Data Laye...</td>\n",
       "      <td>True</td>\n",
       "      <td>313</td>\n",
       "    </tr>\n",
       "    <tr>\n",
       "      <th>1</th>\n",
       "      <td>ngram-MN</td>\n",
       "      <td>unitless</td>\n",
       "      <td>N-gram model matched when predicting croptype ...</td>\n",
       "      <td>True</td>\n",
       "      <td>314</td>\n",
       "    </tr>\n",
       "    <tr>\n",
       "      <th>2</th>\n",
       "      <td>probability-MN</td>\n",
       "      <td>unitless</td>\n",
       "      <td>Probability of predicted croptype for USDA Cro...</td>\n",
       "      <td>False</td>\n",
       "      <td>315</td>\n",
       "    </tr>\n",
       "  </tbody>\n",
       "</table>\n",
       "</div>"
      ],
      "text/plain": [
       "             name     units  \\\n",
       "0     croptype-MN  unitless   \n",
       "1        ngram-MN  unitless   \n",
       "2  probability-MN  unitless   \n",
       "\n",
       "                                         description  discrete   id  \n",
       "0  Predicted croptype for USDA Cropland Data Laye...      True  313  \n",
       "1  N-gram model matched when predicting croptype ...      True  314  \n",
       "2  Probability of predicted croptype for USDA Cro...     False  315  "
      ]
     },
     "execution_count": 6,
     "metadata": {},
     "output_type": "execute_result"
    }
   ],
   "source": [
    "res = s.get(url + f\"/{dataset}/layer\")\n",
    "layers = pd.json_normalize(res.json())\n",
    "layers"
   ]
  },
  {
   "cell_type": "markdown",
   "id": "knowing-plymouth",
   "metadata": {},
   "source": [
    "### List available objects within the area of interest"
   ]
  },
  {
   "cell_type": "code",
   "execution_count": 7,
   "id": "molecular-lightweight",
   "metadata": {},
   "outputs": [],
   "source": [
    "area_of_interest = \"-95.40,44.30,-95.10,44.60\"\n",
    "params = {\n",
    "    \"bbox\": area_of_interest\n",
    "}"
   ]
  },
  {
   "cell_type": "code",
   "execution_count": 8,
   "id": "abandoned-immunology",
   "metadata": {},
   "outputs": [
    {
     "data": {
      "text/html": [
       "<div>\n",
       "<style scoped>\n",
       "    .dataframe tbody tr th:only-of-type {\n",
       "        vertical-align: middle;\n",
       "    }\n",
       "\n",
       "    .dataframe tbody tr th {\n",
       "        vertical-align: top;\n",
       "    }\n",
       "\n",
       "    .dataframe thead th {\n",
       "        text-align: right;\n",
       "    }\n",
       "</style>\n",
       "<table border=\"1\" class=\"dataframe\">\n",
       "  <thead>\n",
       "    <tr style=\"text-align: right;\">\n",
       "      <th></th>\n",
       "      <th>id</th>\n",
       "      <th>grid_id</th>\n",
       "      <th>t_ranges</th>\n",
       "      <th>t_key</th>\n",
       "      <th>t_description</th>\n",
       "      <th>name</th>\n",
       "      <th>units</th>\n",
       "      <th>description</th>\n",
       "      <th>layer_id</th>\n",
       "    </tr>\n",
       "  </thead>\n",
       "  <tbody>\n",
       "    <tr>\n",
       "      <th>0</th>\n",
       "      <td>187555</td>\n",
       "      <td>4</td>\n",
       "      <td>[{'begin': '2023', 'end': '2024'}]</td>\n",
       "      <td>None</td>\n",
       "      <td>None</td>\n",
       "      <td>croptype-MN</td>\n",
       "      <td>unitless</td>\n",
       "      <td>Predicted croptype for USDA Cropland Data Laye...</td>\n",
       "      <td>313</td>\n",
       "    </tr>\n",
       "    <tr>\n",
       "      <th>1</th>\n",
       "      <td>187556</td>\n",
       "      <td>4</td>\n",
       "      <td>[{'begin': '2023', 'end': '2024'}]</td>\n",
       "      <td>None</td>\n",
       "      <td>None</td>\n",
       "      <td>ngram-MN</td>\n",
       "      <td>unitless</td>\n",
       "      <td>N-gram model matched when predicting croptype ...</td>\n",
       "      <td>314</td>\n",
       "    </tr>\n",
       "    <tr>\n",
       "      <th>2</th>\n",
       "      <td>187557</td>\n",
       "      <td>4</td>\n",
       "      <td>[{'begin': '2023', 'end': '2024'}]</td>\n",
       "      <td>None</td>\n",
       "      <td>None</td>\n",
       "      <td>probability-MN</td>\n",
       "      <td>unitless</td>\n",
       "      <td>Probability of predicted croptype for USDA Cro...</td>\n",
       "      <td>315</td>\n",
       "    </tr>\n",
       "  </tbody>\n",
       "</table>\n",
       "</div>"
      ],
      "text/plain": [
       "       id  grid_id                            t_ranges t_key t_description  \\\n",
       "0  187555        4  [{'begin': '2023', 'end': '2024'}]  None          None   \n",
       "1  187556        4  [{'begin': '2023', 'end': '2024'}]  None          None   \n",
       "2  187557        4  [{'begin': '2023', 'end': '2024'}]  None          None   \n",
       "\n",
       "             name     units  \\\n",
       "0     croptype-MN  unitless   \n",
       "1        ngram-MN  unitless   \n",
       "2  probability-MN  unitless   \n",
       "\n",
       "                                         description  layer_id  \n",
       "0  Predicted croptype for USDA Cropland Data Laye...       313  \n",
       "1  N-gram model matched when predicting croptype ...       314  \n",
       "2  Probability of predicted croptype for USDA Cro...       315  "
      ]
     },
     "execution_count": 8,
     "metadata": {},
     "output_type": "execute_result"
    }
   ],
   "source": [
    "res = s.get(url + f\"/{dataset}/object/search\", params=params)\n",
    "df = pd.json_normalize(res.json())\n",
    "df.sort_values(by=\"id\")"
   ]
  },
  {
   "cell_type": "markdown",
   "id": "persistent-means",
   "metadata": {},
   "source": [
    "### Check spatial extent of the object"
   ]
  },
  {
   "cell_type": "code",
   "execution_count": 9,
   "id": "fundamental-momentum",
   "metadata": {},
   "outputs": [],
   "source": [
    "i = 187552"
   ]
  },
  {
   "cell_type": "code",
   "execution_count": 10,
   "id": "disciplinary-norfolk",
   "metadata": {},
   "outputs": [
    {
     "data": {
      "text/plain": [
       "{'detail': \"object '187552' not found\"}"
      ]
     },
     "execution_count": 10,
     "metadata": {},
     "output_type": "execute_result"
    }
   ],
   "source": [
    "res = s.get(url + f\"/{dataset}/object/{i}/envelope\")\n",
    "res.json()"
   ]
  },
  {
   "cell_type": "markdown",
   "id": "short-counter",
   "metadata": {},
   "source": [
    "### Sample point data"
   ]
  },
  {
   "cell_type": "code",
   "execution_count": 11,
   "id": "widespread-debate",
   "metadata": {},
   "outputs": [],
   "source": [
    "params = {\n",
    "    \"lat\" : 45,\n",
    "    \"lon\" : -95\n",
    "}"
   ]
  },
  {
   "cell_type": "code",
   "execution_count": 12,
   "id": "hungry-milwaukee",
   "metadata": {},
   "outputs": [
    {
     "ename": "KeyError",
     "evalue": "'t_ranges'",
     "output_type": "error",
     "traceback": [
      "\u001b[0;31m---------------------------------------------------------------------------\u001b[0m",
      "\u001b[0;31mKeyError\u001b[0m                                  Traceback (most recent call last)",
      "Cell \u001b[0;32mIn[12], line 4\u001b[0m\n\u001b[1;32m      2\u001b[0m \u001b[38;5;28;01mfor\u001b[39;00m i \u001b[38;5;129;01min\u001b[39;00m [\u001b[38;5;241m187552\u001b[39m]:\n\u001b[1;32m      3\u001b[0m     res \u001b[38;5;241m=\u001b[39m s\u001b[38;5;241m.\u001b[39mget(url \u001b[38;5;241m+\u001b[39m \u001b[38;5;124mf\u001b[39m\u001b[38;5;124m\"\u001b[39m\u001b[38;5;124m/\u001b[39m\u001b[38;5;132;01m{\u001b[39;00mdataset\u001b[38;5;132;01m}\u001b[39;00m\u001b[38;5;124m/object/\u001b[39m\u001b[38;5;132;01m{\u001b[39;00mi\u001b[38;5;132;01m}\u001b[39;00m\u001b[38;5;124m\"\u001b[39m)\n\u001b[0;32m----> 4\u001b[0m     year \u001b[38;5;241m=\u001b[39m \u001b[43mres\u001b[49m\u001b[38;5;241;43m.\u001b[39;49m\u001b[43mjson\u001b[49m\u001b[43m(\u001b[49m\u001b[43m)\u001b[49m\u001b[43m[\u001b[49m\u001b[38;5;124;43m\"\u001b[39;49m\u001b[38;5;124;43mt_ranges\u001b[39;49m\u001b[38;5;124;43m\"\u001b[39;49m\u001b[43m]\u001b[49m[\u001b[38;5;241m0\u001b[39m][\u001b[38;5;124m\"\u001b[39m\u001b[38;5;124mbegin\u001b[39m\u001b[38;5;124m\"\u001b[39m]\n\u001b[1;32m      5\u001b[0m     res \u001b[38;5;241m=\u001b[39m s\u001b[38;5;241m.\u001b[39mget(url \u001b[38;5;241m+\u001b[39m \u001b[38;5;124mf\u001b[39m\u001b[38;5;124m\"\u001b[39m\u001b[38;5;124m/\u001b[39m\u001b[38;5;132;01m{\u001b[39;00mdataset\u001b[38;5;132;01m}\u001b[39;00m\u001b[38;5;124m/object/\u001b[39m\u001b[38;5;132;01m{\u001b[39;00mi\u001b[38;5;132;01m}\u001b[39;00m\u001b[38;5;124m/point\u001b[39m\u001b[38;5;124m\"\u001b[39m, params\u001b[38;5;241m=\u001b[39mparams)\n\u001b[1;32m      6\u001b[0m     value \u001b[38;5;241m=\u001b[39m res\u001b[38;5;241m.\u001b[39mjson()[\u001b[38;5;124m\"\u001b[39m\u001b[38;5;124mvalue\u001b[39m\u001b[38;5;124m\"\u001b[39m]\n",
      "\u001b[0;31mKeyError\u001b[0m: 't_ranges'"
     ]
    }
   ],
   "source": [
    "# for i in range(187552):\n",
    "for i in [187552]:\n",
    "    res = s.get(url + f\"/{dataset}/object/{i}\")\n",
    "    year = res.json()[\"t_ranges\"][0][\"begin\"]\n",
    "    res = s.get(url + f\"/{dataset}/object/{i}/point\", params=params)\n",
    "    value = res.json()[\"value\"]\n",
    "    print (f\"Value in {year} is {value} ({classes[value]})\")"
   ]
  },
  {
   "cell_type": "markdown",
   "id": "radical-python",
   "metadata": {},
   "source": [
    "### Get and visualize raster data"
   ]
  },
  {
   "cell_type": "code",
   "execution_count": null,
   "id": "optimum-turkey",
   "metadata": {},
   "outputs": [],
   "source": [
    "area_of_interest = \"-95.40,44.30,-95.10,44.60\"\n",
    "params = {\n",
    "    \"bbox\": area_of_interest\n",
    "}"
   ]
  },
  {
   "cell_type": "code",
   "execution_count": null,
   "id": "published-liverpool",
   "metadata": {},
   "outputs": [],
   "source": [
    "d = {}\n",
    "unique = []\n",
    "for i in [187552, 187554]:\n",
    "# for i in [187552]:\n",
    "    res = s.get(url + f\"/{dataset}/object/{i}/raster\", params=params)\n",
    "    raster = res.content\n",
    "    with rasterio.MemoryFile(raster) as memfile:\n",
    "        with memfile.open() as dst:\n",
    "            print (dst.profile)\n",
    "            data = dst.read(1)\n",
    "            if i == 187552:\n",
    "                unique.extend(list(np.unique(data)))\n",
    "                rgb = np.array([list(map(palette.__getitem__, row)) for row in data])\n",
    "                d[i] = rgb\n",
    "            else:\n",
    "                d[i] = data"
   ]
  },
  {
   "cell_type": "code",
   "execution_count": null,
   "id": "97a58130-8532-436f-8624-654dc0e6584f",
   "metadata": {},
   "outputs": [],
   "source": [
    "# colorbar setup for predictions\n",
    "path = '/home/riss/jathomps/projects/iaa_gems/gems_visualizations/w_ymiddle1.xml'\n",
    "prob_cmap = cm.make_cmap(path)\n",
    "# prob_cmap"
   ]
  },
  {
   "cell_type": "code",
   "execution_count": null,
   "id": "exciting-cable",
   "metadata": {},
   "outputs": [],
   "source": [
    "# display arrays \n",
    "# fig, axs = plt.subplots(2,1, figsize=(4, 11), tight_layout=True)\n",
    "fig, axs = plt.subplots(1,2, figsize=(11, 4), tight_layout=True)\n",
    "plot0 = axs[0].imshow(d[187552])\n",
    "axs[0].set_title(\"Predicted croptypes, 2023\", weight=\"bold\")\n",
    "plot1 = axs[1].imshow(d[187554], cmap=prob_cmap)\n",
    "axs[1].set_title(\"Probability of predicted croptypes, 2023\", weight=\"bold\")\n",
    "\n",
    "# colorbar for predictions\n",
    "divider = make_axes_locatable(axs[1])\n",
    "cax = divider.append_axes(\"right\", size=\"5%\", pad=0.05)\n",
    "mappable = plt.cm.ScalarMappable(cmap=prob_cmap, norm=plt.Normalize(vmin=0., vmax=1.))\n",
    "cbar = fig.colorbar(mappable, cax=cax, orientation=\"vertical\")\n",
    "cbar.ax.tick_params(labelsize=10)\n",
    "\n",
    "# format and add a legend\n",
    "labels = [classes[l] for l in list(set(unique))]\n",
    "clrs = [(b'#' + b16encode(bytes(palette[l]))).decode() for l in list(set(unique))]\n",
    "c = [ mpatches.Patch(facecolor=clrs[i]) for i in range(len(labels))]\n",
    "fig.legend(c, labels, ncol=6, loc='outside lower left', bbox_to_anchor=(0.13, -0.2),  fontsize=7)\n",
    "# plt.tight_layout"
   ]
  },
  {
   "cell_type": "markdown",
   "id": "accepted-agency",
   "metadata": {},
   "source": [
    "### Get pixel counts by land cover type"
   ]
  },
  {
   "cell_type": "code",
   "execution_count": null,
   "id": "joint-bowling",
   "metadata": {},
   "outputs": [],
   "source": [
    "area_of_interest = \"-95.40,44.30,-95.10,44.60\"\n",
    "params = {\n",
    "    \"bbox\": area_of_interest\n",
    "}\n",
    "i = 187552"
   ]
  },
  {
   "cell_type": "code",
   "execution_count": null,
   "id": "proved-heath",
   "metadata": {},
   "outputs": [],
   "source": [
    "res = s.get(url + f\"/{dataset}/object/{i}/valuecount\", params=params)\n",
    "df = pd.json_normalize(res.json())\n",
    "df[\"class\"] = df.apply(lambda x : classes[x.value], axis=1)\n",
    "df.sort_values(by=\"count\", ascending=False)"
   ]
  },
  {
   "cell_type": "code",
   "execution_count": null,
   "id": "unauthorized-mauritius",
   "metadata": {},
   "outputs": [],
   "source": []
  }
 ],
 "metadata": {
  "kernelspec": {
   "display_name": "Python 3 (ipykernel)",
   "language": "python",
   "name": "python3"
  },
  "language_info": {
   "codemirror_mode": {
    "name": "ipython",
    "version": 3
   },
   "file_extension": ".py",
   "mimetype": "text/x-python",
   "name": "python",
   "nbconvert_exporter": "python",
   "pygments_lexer": "ipython3",
   "version": "3.10.12"
  }
 },
 "nbformat": 4,
 "nbformat_minor": 5
}
