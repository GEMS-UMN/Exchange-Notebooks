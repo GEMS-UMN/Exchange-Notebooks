{
 "cells": [
  {
   "cell_type": "markdown",
   "id": "honey-tradition",
   "metadata": {},
   "source": [
    "# GEMS PedTools Example Usage\n",
    "Below is a simple example that illustrates how to access data in the PedTools database.\n",
    "### Set up an HTTP client using Python's request library\n",
    "We use a `Session` object to store our API key and automatically include it in the header for each request.\n",
    "\n",
    "Note that we have a `api_key.py` file in the Exchange-Notebooks directory. The file contains only the below line.\n",
    "```\n",
    "api_key = 'SECRET'\n",
    "```"
   ]
  },
  {
   "cell_type": "code",
   "execution_count": 7,
   "id": "daily-engagement",
   "metadata": {},
   "outputs": [],
   "source": [
    "import json\n",
    "import pandas as pd\n",
    "from requests import Session\n",
    "from urllib.parse import quote\n",
    "import sys\n",
    "sys.path.append('..')\n",
    "from api_key import api_key\n",
    "\n",
    "s = Session()\n",
    "s.headers.update({'apikey': api_key})\n",
    "\n",
    "base = 'https://exchange-1.gems.msi.umn.edu/pedtools/v1'"
   ]
  },
  {
   "cell_type": "markdown",
   "id": "mineral-biotechnology",
   "metadata": {},
   "source": [
    "### Find info on a variety of interest\n",
    "We use the `/{variety}` endpoint to obtain all recorded info on a variety, in this case 'TURKEY'."
   ]
  },
  {
   "cell_type": "code",
   "execution_count": 8,
   "id": "bacterial-arena",
   "metadata": {},
   "outputs": [
    {
     "data": {
      "text/html": [
       "<div>\n",
       "<style scoped>\n",
       "    .dataframe tbody tr th:only-of-type {\n",
       "        vertical-align: middle;\n",
       "    }\n",
       "\n",
       "    .dataframe tbody tr th {\n",
       "        vertical-align: top;\n",
       "    }\n",
       "\n",
       "    .dataframe thead th {\n",
       "        text-align: right;\n",
       "    }\n",
       "</style>\n",
       "<table border=\"1\" class=\"dataframe\">\n",
       "  <thead>\n",
       "    <tr style=\"text-align: right;\">\n",
       "      <th></th>\n",
       "      <th>preferred_name</th>\n",
       "      <th>crop_name</th>\n",
       "      <th>is_landrace</th>\n",
       "      <th>backcross_depth</th>\n",
       "      <th>selfing_count</th>\n",
       "      <th>market_class</th>\n",
       "      <th>release_date</th>\n",
       "      <th>developer</th>\n",
       "      <th>parentage</th>\n",
       "      <th>aliases</th>\n",
       "      <th>...</th>\n",
       "      <th>mother.crop_name</th>\n",
       "      <th>mother.is_landrace</th>\n",
       "      <th>mother.backcross_depth</th>\n",
       "      <th>mother.selfing_count</th>\n",
       "      <th>mother.market_class</th>\n",
       "      <th>mother.release_date</th>\n",
       "      <th>mother.developer</th>\n",
       "      <th>mother.parentage</th>\n",
       "      <th>mother.aliases</th>\n",
       "      <th>mother</th>\n",
       "    </tr>\n",
       "  </thead>\n",
       "  <tbody>\n",
       "    <tr>\n",
       "      <th>0</th>\n",
       "      <td>TURKEY GID:135</td>\n",
       "      <td>wheat</td>\n",
       "      <td>False</td>\n",
       "      <td>0</td>\n",
       "      <td>2</td>\n",
       "      <td>None</td>\n",
       "      <td>None</td>\n",
       "      <td>None</td>\n",
       "      <td>None</td>\n",
       "      <td>[{'name': '135', 'type': 'germplasm_bank_id'},...</td>\n",
       "      <td>...</td>\n",
       "      <td>wheat</td>\n",
       "      <td>False</td>\n",
       "      <td>0.0</td>\n",
       "      <td>1.0</td>\n",
       "      <td>NaN</td>\n",
       "      <td>NaN</td>\n",
       "      <td>NaN</td>\n",
       "      <td>NaN</td>\n",
       "      <td>[{'name': '3700', 'type': 'germplasm_bank_id'}...</td>\n",
       "      <td>NaN</td>\n",
       "    </tr>\n",
       "    <tr>\n",
       "      <th>1</th>\n",
       "      <td>TURKEY GID:10509</td>\n",
       "      <td>wheat</td>\n",
       "      <td>False</td>\n",
       "      <td>0</td>\n",
       "      <td>0</td>\n",
       "      <td>None</td>\n",
       "      <td>None</td>\n",
       "      <td>None</td>\n",
       "      <td>None</td>\n",
       "      <td>[{'name': '10509', 'type': 'germplasm_bank_id'...</td>\n",
       "      <td>...</td>\n",
       "      <td>NaN</td>\n",
       "      <td>NaN</td>\n",
       "      <td>NaN</td>\n",
       "      <td>NaN</td>\n",
       "      <td>NaN</td>\n",
       "      <td>NaN</td>\n",
       "      <td>NaN</td>\n",
       "      <td>NaN</td>\n",
       "      <td>NaN</td>\n",
       "      <td>NaN</td>\n",
       "    </tr>\n",
       "  </tbody>\n",
       "</table>\n",
       "<p>2 rows × 23 columns</p>\n",
       "</div>"
      ],
      "text/plain": [
       "     preferred_name crop_name  is_landrace  backcross_depth  selfing_count  \\\n",
       "0    TURKEY GID:135     wheat        False                0              2   \n",
       "1  TURKEY GID:10509     wheat        False                0              0   \n",
       "\n",
       "  market_class release_date developer parentage  \\\n",
       "0         None         None      None      None   \n",
       "1         None         None      None      None   \n",
       "\n",
       "                                             aliases  ... mother.crop_name  \\\n",
       "0  [{'name': '135', 'type': 'germplasm_bank_id'},...  ...            wheat   \n",
       "1  [{'name': '10509', 'type': 'germplasm_bank_id'...  ...              NaN   \n",
       "\n",
       "  mother.is_landrace mother.backcross_depth mother.selfing_count  \\\n",
       "0              False                    0.0                  1.0   \n",
       "1                NaN                    NaN                  NaN   \n",
       "\n",
       "  mother.market_class  mother.release_date  mother.developer  \\\n",
       "0                 NaN                  NaN               NaN   \n",
       "1                 NaN                  NaN               NaN   \n",
       "\n",
       "   mother.parentage                                     mother.aliases  mother  \n",
       "0               NaN  [{'name': '3700', 'type': 'germplasm_bank_id'}...     NaN  \n",
       "1               NaN                                                NaN     NaN  \n",
       "\n",
       "[2 rows x 23 columns]"
      ]
     },
     "execution_count": 8,
     "metadata": {},
     "output_type": "execute_result"
    }
   ],
   "source": [
    "params = {'pedigree_depth': 5}\n",
    "variety = quote('TURKEY')\n",
    "res = s.get(f'{base}/{variety}', params=params)\n",
    "df = pd.json_normalize(res.json())\n",
    "df"
   ]
  },
  {
   "cell_type": "markdown",
   "id": "excessive-elevation",
   "metadata": {},
   "source": [
    "### Cool two items were returned. Can I see all the aliases for the first one?"
   ]
  },
  {
   "cell_type": "code",
   "execution_count": 9,
   "id": "fundamental-breeding",
   "metadata": {},
   "outputs": [
    {
     "data": {
      "text/plain": [
       "[{'name': '135', 'type': 'germplasm_bank_id'},\n",
       " {'name': 'CWI51783', 'type': 'germplasm_bank_accession_id'},\n",
       " {'name': 'P.1066-?-?', 'type': 'selection_history'},\n",
       " {'name': 'TK', 'type': 'cross_abbreviation'},\n",
       " {'name': 'TURKEY', 'type': 'cross_name'}]"
      ]
     },
     "execution_count": 9,
     "metadata": {},
     "output_type": "execute_result"
    }
   ],
   "source": [
    "df['aliases'][0]"
   ]
  },
  {
   "cell_type": "markdown",
   "id": "collective-ending",
   "metadata": {},
   "source": [
    "### Let's check another entry, and retrieve its pedigree to a depth of 5 (great-great-great grandparents)."
   ]
  },
  {
   "cell_type": "code",
   "execution_count": 10,
   "id": "interior-adoption",
   "metadata": {},
   "outputs": [
    {
     "data": {
      "text/html": [
       "<div>\n",
       "<style scoped>\n",
       "    .dataframe tbody tr th:only-of-type {\n",
       "        vertical-align: middle;\n",
       "    }\n",
       "\n",
       "    .dataframe tbody tr th {\n",
       "        vertical-align: top;\n",
       "    }\n",
       "\n",
       "    .dataframe thead th {\n",
       "        text-align: right;\n",
       "    }\n",
       "</style>\n",
       "<table border=\"1\" class=\"dataframe\">\n",
       "  <thead>\n",
       "    <tr style=\"text-align: right;\">\n",
       "      <th></th>\n",
       "      <th>preferred_name</th>\n",
       "      <th>crop_name</th>\n",
       "      <th>is_landrace</th>\n",
       "      <th>backcross_depth</th>\n",
       "      <th>selfing_count</th>\n",
       "      <th>market_class</th>\n",
       "      <th>release_date</th>\n",
       "      <th>developer</th>\n",
       "      <th>parentage</th>\n",
       "      <th>aliases</th>\n",
       "      <th>...</th>\n",
       "      <th>father.preferred_name</th>\n",
       "      <th>father.crop_name</th>\n",
       "      <th>father.is_landrace</th>\n",
       "      <th>father.backcross_depth</th>\n",
       "      <th>father.selfing_count</th>\n",
       "      <th>father.market_class</th>\n",
       "      <th>father.release_date</th>\n",
       "      <th>father.developer</th>\n",
       "      <th>father.parentage</th>\n",
       "      <th>father.aliases</th>\n",
       "    </tr>\n",
       "  </thead>\n",
       "  <tbody>\n",
       "    <tr>\n",
       "      <th>0</th>\n",
       "      <td>SANDPIPER</td>\n",
       "      <td>wheat</td>\n",
       "      <td>False</td>\n",
       "      <td>0</td>\n",
       "      <td>0</td>\n",
       "      <td>None</td>\n",
       "      <td>None</td>\n",
       "      <td>None</td>\n",
       "      <td>None</td>\n",
       "      <td>[{'name': '4046', 'type': 'germplasm_bank_id'}...</td>\n",
       "      <td>...</td>\n",
       "      <td>FLAMINGO</td>\n",
       "      <td>wheat</td>\n",
       "      <td>False</td>\n",
       "      <td>0</td>\n",
       "      <td>6</td>\n",
       "      <td>None</td>\n",
       "      <td>None</td>\n",
       "      <td>None</td>\n",
       "      <td>None</td>\n",
       "      <td>[{'name': '-B14263.05-0T-0L-28T-0L-?', 'type':...</td>\n",
       "    </tr>\n",
       "  </tbody>\n",
       "</table>\n",
       "<p>1 rows × 31 columns</p>\n",
       "</div>"
      ],
      "text/plain": [
       "  preferred_name crop_name  is_landrace  backcross_depth  selfing_count  \\\n",
       "0      SANDPIPER     wheat        False                0              0   \n",
       "\n",
       "  market_class release_date developer parentage  \\\n",
       "0         None         None      None      None   \n",
       "\n",
       "                                             aliases  ...  \\\n",
       "0  [{'name': '4046', 'type': 'germplasm_bank_id'}...  ...   \n",
       "\n",
       "  father.preferred_name father.crop_name father.is_landrace  \\\n",
       "0              FLAMINGO            wheat              False   \n",
       "\n",
       "   father.backcross_depth  father.selfing_count  father.market_class  \\\n",
       "0                       0                     6                 None   \n",
       "\n",
       "  father.release_date father.developer father.parentage  \\\n",
       "0                None             None             None   \n",
       "\n",
       "                                      father.aliases  \n",
       "0  [{'name': '-B14263.05-0T-0L-28T-0L-?', 'type':...  \n",
       "\n",
       "[1 rows x 31 columns]"
      ]
     },
     "execution_count": 10,
     "metadata": {},
     "output_type": "execute_result"
    }
   ],
   "source": [
    "params = {'pedigree_depth': 5}\n",
    "variety = quote('SANDPIPER')\n",
    "#variety = quote('###33476')\n",
    "res = s.get(f'{base}/{variety}', params=params)\n",
    "df = pd.json_normalize(res.json())\n",
    "df"
   ]
  },
  {
   "cell_type": "markdown",
   "id": "potential-thomas",
   "metadata": {},
   "source": [
    "### One match. Let's retrieve its pedigree."
   ]
  },
  {
   "cell_type": "code",
   "execution_count": 12,
   "id": "large-counter",
   "metadata": {},
   "outputs": [
    {
     "data": {
      "text/plain": [
       "'###123561 / STEWART 63 /2/ 980 GID:980 / WELLS /3/ ###123633 / TEHUACAN 60 /2/ 980 GID:980 / WELLS /4/ POLONICUM PI185309 /2/ ###250171 / TEHUACAN 60 /3/ ###123633 / TEHUACAN 60 /2/ 980 GID:980 / WELLS /5/ II23584 GID:417 (417) F6 /2/ ###6385 (###6385) F2 /3/ ###3926 (###3926) F1 (II23584 GID:417 (417) F6 /2/ ###6385 (###6385) F2 /3/ ###3926 (###3926) F1) F6'"
      ]
     },
     "execution_count": 12,
     "metadata": {},
     "output_type": "execute_result"
    }
   ],
   "source": [
    "df['pedigree'][0]"
   ]
  },
  {
   "cell_type": "markdown",
   "id": "coated-college",
   "metadata": {},
   "source": [
    "### How do I find the Coefficient of Parentage (COP) between any arbitrary pair of varieties?\n",
    "We use the `/{variety1}/{variety2}/cop` endpoint to obtain the COP between two varieties, variety1 and variety2."
   ]
  },
  {
   "cell_type": "code",
   "execution_count": 13,
   "id": "defined-chaos",
   "metadata": {},
   "outputs": [
    {
     "data": {
      "text/html": [
       "<div>\n",
       "<style scoped>\n",
       "    .dataframe tbody tr th:only-of-type {\n",
       "        vertical-align: middle;\n",
       "    }\n",
       "\n",
       "    .dataframe tbody tr th {\n",
       "        vertical-align: top;\n",
       "    }\n",
       "\n",
       "    .dataframe thead th {\n",
       "        text-align: right;\n",
       "    }\n",
       "</style>\n",
       "<table border=\"1\" class=\"dataframe\">\n",
       "  <thead>\n",
       "    <tr style=\"text-align: right;\">\n",
       "      <th></th>\n",
       "      <th>cop</th>\n",
       "    </tr>\n",
       "  </thead>\n",
       "  <tbody>\n",
       "    <tr>\n",
       "      <th>0</th>\n",
       "      <td>0.125</td>\n",
       "    </tr>\n",
       "  </tbody>\n",
       "</table>\n",
       "</div>"
      ],
      "text/plain": [
       "     cop\n",
       "0  0.125"
      ]
     },
     "execution_count": 13,
     "metadata": {},
     "output_type": "execute_result"
    }
   ],
   "source": [
    "var1 = quote('###33476')\n",
    "var2 = quote('MEDITERRANEAN')\n",
    "res = s.get(f'{base}/{var1}/{var2}/cop')\n",
    "pd.json_normalize(res.json())"
   ]
  }
 ],
 "metadata": {
  "kernelspec": {
   "display_name": "Python 3 (ipykernel)",
   "language": "python",
   "name": "python3"
  },
  "language_info": {
   "codemirror_mode": {
    "name": "ipython",
    "version": 3
   },
   "file_extension": ".py",
   "mimetype": "text/x-python",
   "name": "python",
   "nbconvert_exporter": "python",
   "pygments_lexer": "ipython3",
   "version": "3.12.7"
  }
 },
 "nbformat": 4,
 "nbformat_minor": 5
}
