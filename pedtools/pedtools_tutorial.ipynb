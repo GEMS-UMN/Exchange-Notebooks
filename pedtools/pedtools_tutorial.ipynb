{
 "cells": [
  {
   "cell_type": "markdown",
   "id": "honey-tradition",
   "metadata": {},
   "source": [
    "# GEMS PedTools Example Usage\n",
    "Below is a simple example that illustrates how to access data in the PedTools database.\n",
    "### Set up an HTTP client using Python's request library\n",
    "We use a `Session` object to store our API key and automatically include it in the header for each request.\n",
    "\n",
    "Note that we have a `api_key.py` file in the Exchange-Notebooks directory. The file contains only the below line.\n",
    "```\n",
    "api_key = 'SECRET'\n",
    "```"
   ]
  },
  {
   "cell_type": "code",
   "execution_count": 1,
   "id": "daily-engagement",
   "metadata": {},
   "outputs": [],
   "source": [
    "import json\n",
    "import pandas as pd\n",
    "from requests import Session\n",
    "from urllib.parse import quote\n",
    "import sys\n",
    "sys.path.append('..')\n",
    "from api_key import api_key\n",
    "\n",
    "s = Session()\n",
    "s.headers.update({'apikey': api_key})\n",
    "\n",
    "base = 'https://exchange-1.gems.msi.umn.edu/pedtools/v1'\n",
    "# base = 'https://exchange-dev.gems.msi.umn.edu/pedtools/v1'"
   ]
  },
  {
   "cell_type": "markdown",
   "id": "mineral-biotechnology",
   "metadata": {},
   "source": [
    "### Find info on a variety of interest\n",
    "We use the `/{variety}` endpoint to obtain all recorded info on a variety, in this case 'TURKEY'."
   ]
  },
  {
   "cell_type": "code",
   "execution_count": 2,
   "id": "bacterial-arena",
   "metadata": {},
   "outputs": [
    {
     "data": {
      "text/html": [
       "<div>\n",
       "<style scoped>\n",
       "    .dataframe tbody tr th:only-of-type {\n",
       "        vertical-align: middle;\n",
       "    }\n",
       "\n",
       "    .dataframe tbody tr th {\n",
       "        vertical-align: top;\n",
       "    }\n",
       "\n",
       "    .dataframe thead th {\n",
       "        text-align: right;\n",
       "    }\n",
       "</style>\n",
       "<table border=\"1\" class=\"dataframe\">\n",
       "  <thead>\n",
       "    <tr style=\"text-align: right;\">\n",
       "      <th></th>\n",
       "      <th>preferred_name</th>\n",
       "      <th>crop_name</th>\n",
       "      <th>backcross_str</th>\n",
       "      <th>selfing_count</th>\n",
       "      <th>market_class</th>\n",
       "      <th>release_date</th>\n",
       "      <th>developer</th>\n",
       "      <th>parentage</th>\n",
       "      <th>aliases</th>\n",
       "      <th>father</th>\n",
       "      <th>...</th>\n",
       "      <th>mother.preferred_name</th>\n",
       "      <th>mother.crop_name</th>\n",
       "      <th>mother.backcross_str</th>\n",
       "      <th>mother.selfing_count</th>\n",
       "      <th>mother.market_class</th>\n",
       "      <th>mother.release_date</th>\n",
       "      <th>mother.developer</th>\n",
       "      <th>mother.parentage</th>\n",
       "      <th>mother.aliases</th>\n",
       "      <th>mother</th>\n",
       "    </tr>\n",
       "  </thead>\n",
       "  <tbody>\n",
       "    <tr>\n",
       "      <th>0</th>\n",
       "      <td>TURKEY GID:135</td>\n",
       "      <td>wheat</td>\n",
       "      <td></td>\n",
       "      <td>2</td>\n",
       "      <td>None</td>\n",
       "      <td>None</td>\n",
       "      <td>None</td>\n",
       "      <td>None</td>\n",
       "      <td>[{'name': '135', 'type': 'germplasm_bank_id'},...</td>\n",
       "      <td>None</td>\n",
       "      <td>...</td>\n",
       "      <td>P.1066-? GID:3700</td>\n",
       "      <td>wheat</td>\n",
       "      <td></td>\n",
       "      <td>1.0</td>\n",
       "      <td>NaN</td>\n",
       "      <td>NaN</td>\n",
       "      <td>NaN</td>\n",
       "      <td>NaN</td>\n",
       "      <td>[{'name': '3700', 'type': 'germplasm_bank_id'}...</td>\n",
       "      <td>NaN</td>\n",
       "    </tr>\n",
       "    <tr>\n",
       "      <th>1</th>\n",
       "      <td>TURKEY GID:10509</td>\n",
       "      <td>wheat</td>\n",
       "      <td></td>\n",
       "      <td>0</td>\n",
       "      <td>None</td>\n",
       "      <td>None</td>\n",
       "      <td>None</td>\n",
       "      <td>None</td>\n",
       "      <td>[{'name': '10509', 'type': 'germplasm_bank_id'...</td>\n",
       "      <td>None</td>\n",
       "      <td>...</td>\n",
       "      <td>NaN</td>\n",
       "      <td>NaN</td>\n",
       "      <td>NaN</td>\n",
       "      <td>NaN</td>\n",
       "      <td>NaN</td>\n",
       "      <td>NaN</td>\n",
       "      <td>NaN</td>\n",
       "      <td>NaN</td>\n",
       "      <td>NaN</td>\n",
       "      <td>NaN</td>\n",
       "    </tr>\n",
       "  </tbody>\n",
       "</table>\n",
       "<p>2 rows × 21 columns</p>\n",
       "</div>"
      ],
      "text/plain": [
       "     preferred_name crop_name backcross_str  selfing_count market_class  \\\n",
       "0    TURKEY GID:135     wheat                            2         None   \n",
       "1  TURKEY GID:10509     wheat                            0         None   \n",
       "\n",
       "  release_date developer parentage  \\\n",
       "0         None      None      None   \n",
       "1         None      None      None   \n",
       "\n",
       "                                             aliases father  ...  \\\n",
       "0  [{'name': '135', 'type': 'germplasm_bank_id'},...   None  ...   \n",
       "1  [{'name': '10509', 'type': 'germplasm_bank_id'...   None  ...   \n",
       "\n",
       "  mother.preferred_name mother.crop_name mother.backcross_str  \\\n",
       "0     P.1066-? GID:3700            wheat                        \n",
       "1                   NaN              NaN                  NaN   \n",
       "\n",
       "  mother.selfing_count  mother.market_class  mother.release_date  \\\n",
       "0                  1.0                  NaN                  NaN   \n",
       "1                  NaN                  NaN                  NaN   \n",
       "\n",
       "   mother.developer  mother.parentage  \\\n",
       "0               NaN               NaN   \n",
       "1               NaN               NaN   \n",
       "\n",
       "                                      mother.aliases mother  \n",
       "0  [{'name': '3700', 'type': 'germplasm_bank_id'}...    NaN  \n",
       "1                                                NaN    NaN  \n",
       "\n",
       "[2 rows x 21 columns]"
      ]
     },
     "execution_count": 2,
     "metadata": {},
     "output_type": "execute_result"
    }
   ],
   "source": [
    "params = {'pedigree_depth': 5}\n",
    "variety = quote('TURKEY')\n",
    "res = s.get(f'{base}/{variety}', params=params)\n",
    "df = pd.json_normalize(res.json())\n",
    "df"
   ]
  },
  {
   "cell_type": "markdown",
   "id": "excessive-elevation",
   "metadata": {},
   "source": [
    "### Cool two items were returned. Can I see all the aliases for the first one?"
   ]
  },
  {
   "cell_type": "code",
   "execution_count": 3,
   "id": "fundamental-breeding",
   "metadata": {},
   "outputs": [
    {
     "data": {
      "text/plain": [
       "[{'name': '10509', 'type': 'germplasm_bank_id'},\n",
       " {'name': 'TURKEY', 'type': 'bcid'},\n",
       " {'name': 'TURKEY 13.R', 'type': 'cross_name'}]"
      ]
     },
     "execution_count": 3,
     "metadata": {},
     "output_type": "execute_result"
    }
   ],
   "source": [
    "df['aliases'][1]"
   ]
  },
  {
   "cell_type": "markdown",
   "id": "collective-ending",
   "metadata": {},
   "source": [
    "### Let's check another entry, and retrieve its pedigree to a depth of 5 (great-great-great grandparents)."
   ]
  },
  {
   "cell_type": "code",
   "execution_count": 4,
   "id": "interior-adoption",
   "metadata": {},
   "outputs": [
    {
     "data": {
      "text/html": [
       "<div>\n",
       "<style scoped>\n",
       "    .dataframe tbody tr th:only-of-type {\n",
       "        vertical-align: middle;\n",
       "    }\n",
       "\n",
       "    .dataframe tbody tr th {\n",
       "        vertical-align: top;\n",
       "    }\n",
       "\n",
       "    .dataframe thead th {\n",
       "        text-align: right;\n",
       "    }\n",
       "</style>\n",
       "<table border=\"1\" class=\"dataframe\">\n",
       "  <thead>\n",
       "    <tr style=\"text-align: right;\">\n",
       "      <th></th>\n",
       "      <th>preferred_name</th>\n",
       "      <th>crop_name</th>\n",
       "      <th>backcross_str</th>\n",
       "      <th>selfing_count</th>\n",
       "      <th>market_class</th>\n",
       "      <th>release_date</th>\n",
       "      <th>developer</th>\n",
       "      <th>parentage</th>\n",
       "      <th>aliases</th>\n",
       "      <th>pedigree</th>\n",
       "      <th>...</th>\n",
       "      <th>mother.aliases</th>\n",
       "      <th>father.preferred_name</th>\n",
       "      <th>father.crop_name</th>\n",
       "      <th>father.backcross_str</th>\n",
       "      <th>father.selfing_count</th>\n",
       "      <th>father.market_class</th>\n",
       "      <th>father.release_date</th>\n",
       "      <th>father.developer</th>\n",
       "      <th>father.parentage</th>\n",
       "      <th>father.aliases</th>\n",
       "    </tr>\n",
       "  </thead>\n",
       "  <tbody>\n",
       "    <tr>\n",
       "      <th>0</th>\n",
       "      <td>SANDPIPER</td>\n",
       "      <td>wheat</td>\n",
       "      <td></td>\n",
       "      <td>0</td>\n",
       "      <td>None</td>\n",
       "      <td>None</td>\n",
       "      <td>None</td>\n",
       "      <td>None</td>\n",
       "      <td>[{'name': '4046', 'type': 'germplasm_bank_id'}...</td>\n",
       "      <td>###123561 / STEWART 63 /2/ 980 GID:980 / WELLS...</td>\n",
       "      <td>...</td>\n",
       "      <td>[{'name': '1132', 'type': 'germplasm_bank_id'}...</td>\n",
       "      <td>FLAMINGO</td>\n",
       "      <td>wheat</td>\n",
       "      <td></td>\n",
       "      <td>6</td>\n",
       "      <td>None</td>\n",
       "      <td>None</td>\n",
       "      <td>None</td>\n",
       "      <td>None</td>\n",
       "      <td>[{'name': '-B14263.05-0T-0L-28T-0L-?', 'type':...</td>\n",
       "    </tr>\n",
       "  </tbody>\n",
       "</table>\n",
       "<p>1 rows × 28 columns</p>\n",
       "</div>"
      ],
      "text/plain": [
       "  preferred_name crop_name backcross_str  selfing_count market_class  \\\n",
       "0      SANDPIPER     wheat                            0         None   \n",
       "\n",
       "  release_date developer parentage  \\\n",
       "0         None      None      None   \n",
       "\n",
       "                                             aliases  \\\n",
       "0  [{'name': '4046', 'type': 'germplasm_bank_id'}...   \n",
       "\n",
       "                                            pedigree  ...  \\\n",
       "0  ###123561 / STEWART 63 /2/ 980 GID:980 / WELLS...  ...   \n",
       "\n",
       "                                      mother.aliases father.preferred_name  \\\n",
       "0  [{'name': '1132', 'type': 'germplasm_bank_id'}...              FLAMINGO   \n",
       "\n",
       "  father.crop_name  father.backcross_str father.selfing_count  \\\n",
       "0            wheat                                          6   \n",
       "\n",
       "  father.market_class father.release_date father.developer father.parentage  \\\n",
       "0                None                None             None             None   \n",
       "\n",
       "                                      father.aliases  \n",
       "0  [{'name': '-B14263.05-0T-0L-28T-0L-?', 'type':...  \n",
       "\n",
       "[1 rows x 28 columns]"
      ]
     },
     "execution_count": 4,
     "metadata": {},
     "output_type": "execute_result"
    }
   ],
   "source": [
    "params = {'pedigree_depth': 5}\n",
    "variety = quote('SANDPIPER')\n",
    "#variety = quote('###33476')\n",
    "res = s.get(f'{base}/{variety}', params=params)\n",
    "df = pd.json_normalize(res.json())\n",
    "df"
   ]
  },
  {
   "cell_type": "markdown",
   "id": "potential-thomas",
   "metadata": {},
   "source": [
    "### One match. Let's retrieve its pedigree."
   ]
  },
  {
   "cell_type": "code",
   "execution_count": 5,
   "id": "large-counter",
   "metadata": {},
   "outputs": [
    {
     "data": {
      "text/plain": [
       "'###123561 / STEWART 63 /2/ 980 GID:980 / WELLS /3/ ###123633 / TEHUACAN 60 /2/ 980 GID:980 / WELLS /4/ POLONICUM PI185309 /2/ ###250171 / TEHUACAN 60 /3/ ###123633 / TEHUACAN 60 /2/ 980 GID:980 / WELLS /5/ II23584 GID:417 (II23584) F6 /2/ 3852 (###6385) F2 /3/ 3855 (###3926) F1 (###7220) F6'"
      ]
     },
     "execution_count": 5,
     "metadata": {},
     "output_type": "execute_result"
    }
   ],
   "source": [
    "df['pedigree'][0]"
   ]
  },
  {
   "cell_type": "markdown",
   "id": "coated-college",
   "metadata": {},
   "source": [
    "### How do I find a matrix of Coefficient of Parentage (COP) values among any arbitrary list of varieties?\n",
    "We use the post request `cop/matrix` endpoint to obtain the COP matrix as follows. Note that names of varieties do *not* need to be quote escaped since they will be in the body of the post not in the URL."
   ]
  },
  {
   "cell_type": "code",
   "execution_count": 6,
   "id": "defined-chaos",
   "metadata": {},
   "outputs": [
    {
     "data": {
      "text/plain": [
       "{'reverse_mapping': {'FLAMINGO': 'FLAMINGO',\n",
       "  'GAVIOTA': 'GAVIOTA',\n",
       "  'SANDPIPER': 'SANDPIPER',\n",
       "  'TURKEY GID:135': 'TURKEY',\n",
       "  'TURKEY GID:10509': 'TURKEY'},\n",
       " 'forward_mapping': {'FLAMINGO': ['FLAMINGO'],\n",
       "  'GAVIOTA': ['GAVIOTA'],\n",
       "  'SANDPIPER': ['SANDPIPER'],\n",
       "  'TURKEY': ['TURKEY GID:135', 'TURKEY GID:10509']},\n",
       " 'cop': {'FLAMINGO': {'FLAMINGO': 0.9921875,\n",
       "   'GAVIOTA': 0.0,\n",
       "   'SANDPIPER': 0.49609375,\n",
       "   'TURKEY GID:135': 0.0,\n",
       "   'TURKEY GID:10509': 0.0},\n",
       "  'GAVIOTA': {'FLAMINGO': 0.0,\n",
       "   'GAVIOTA': 0.5,\n",
       "   'SANDPIPER': 0.25,\n",
       "   'TURKEY GID:135': 0.0,\n",
       "   'TURKEY GID:10509': 0.0},\n",
       "  'SANDPIPER': {'FLAMINGO': 0.49609375,\n",
       "   'GAVIOTA': 0.25,\n",
       "   'SANDPIPER': 0.5,\n",
       "   'TURKEY GID:135': 0.0,\n",
       "   'TURKEY GID:10509': 0.0},\n",
       "  'TURKEY GID:135': {'FLAMINGO': 0.0,\n",
       "   'GAVIOTA': 0.0,\n",
       "   'SANDPIPER': 0.0,\n",
       "   'TURKEY GID:135': 0.875,\n",
       "   'TURKEY GID:10509': 0.0},\n",
       "  'TURKEY GID:10509': {'FLAMINGO': 0.0,\n",
       "   'GAVIOTA': 0.0,\n",
       "   'SANDPIPER': 0.0,\n",
       "   'TURKEY GID:135': 0.0,\n",
       "   'TURKEY GID:10509': 0.5}}}"
      ]
     },
     "execution_count": 6,
     "metadata": {},
     "output_type": "execute_result"
    }
   ],
   "source": [
    "params = {'max_depth': 20}\n",
    "var_list = ['FLAMINGO', 'SANDPIPER', 'GAVIOTA', 'TURKEY']\n",
    "res = s.post(f'{base}/cop/matrix', params=params, json=var_list)\n",
    "res.json()"
   ]
  }
 ],
 "metadata": {
  "kernelspec": {
   "display_name": "Python 3 (ipykernel)",
   "language": "python",
   "name": "python3"
  },
  "language_info": {
   "codemirror_mode": {
    "name": "ipython",
    "version": 3
   },
   "file_extension": ".py",
   "mimetype": "text/x-python",
   "name": "python",
   "nbconvert_exporter": "python",
   "pygments_lexer": "ipython3",
   "version": "3.12.7"
  }
 },
 "nbformat": 4,
 "nbformat_minor": 5
}
