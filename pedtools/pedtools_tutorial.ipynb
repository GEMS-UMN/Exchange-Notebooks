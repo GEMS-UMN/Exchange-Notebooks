{
 "cells": [
  {
   "cell_type": "markdown",
   "id": "three-bridge",
   "metadata": {},
   "source": [
    "# GEMS PedTools Example Usage\n",
    "Below is a simple example that illustrates how to access data in the PedTools database.\n",
    "### Set up an HTTP client using Python's request library\n",
    "We use a `Session` object to store our API key and automatically include it in the header for each request.\n",
    "\n",
    "Note that we have a `api_key.py` file in the Exchange-Notebooks directory. The file contains only the below line.\n",
    "```\n",
    "api_key = 'SECRET'\n",
    "```"
   ]
  },
  {
   "cell_type": "code",
   "execution_count": null,
   "id": "constant-hunger",
   "metadata": {},
   "outputs": [],
   "source": [
    "import json\n",
    "import pandas as pd\n",
    "from requests import Session\n",
    "from html import escape\n",
    "import sys\n",
    "sys.path.append('..')\n",
    "from api_key import api_key\n",
    "\n",
    "s = Session()\n",
    "s.headers.update({'apikey': api_key})\n",
    "\n",
    "#base = 'https://exchange-1.gems.msi.umn.edu/pedtools/v1'\n",
    "base = 'https://exchange-dev.gems.msi.umn.edu/pedtools/v1'"
   ]
  },
  {
   "cell_type": "markdown",
   "id": "accepted-grounds",
   "metadata": {},
   "source": [
    "### Find info on a variety of interest\n",
    "We use the `/{variety}` endpoint to obtain all recorded info on a variety, in this case 'TURKEY'."
   ]
  },
  {
   "cell_type": "code",
   "execution_count": 2,
   "id": "oriented-society",
   "metadata": {},
   "outputs": [
    {
     "data": {
      "text/html": [
       "<div>\n",
       "<style scoped>\n",
       "    .dataframe tbody tr th:only-of-type {\n",
       "        vertical-align: middle;\n",
       "    }\n",
       "\n",
       "    .dataframe tbody tr th {\n",
       "        vertical-align: top;\n",
       "    }\n",
       "\n",
       "    .dataframe thead th {\n",
       "        text-align: right;\n",
       "    }\n",
       "</style>\n",
       "<table border=\"1\" class=\"dataframe\">\n",
       "  <thead>\n",
       "    <tr style=\"text-align: right;\">\n",
       "      <th></th>\n",
       "      <th>preferred_name</th>\n",
       "      <th>crop_name</th>\n",
       "      <th>is_landrace</th>\n",
       "      <th>backcross_depth</th>\n",
       "      <th>selfing_count</th>\n",
       "      <th>market_class</th>\n",
       "      <th>release_date</th>\n",
       "      <th>developer</th>\n",
       "      <th>parentage</th>\n",
       "      <th>aliases</th>\n",
       "      <th>...</th>\n",
       "      <th>mother.crop_name</th>\n",
       "      <th>mother.is_landrace</th>\n",
       "      <th>mother.backcross_depth</th>\n",
       "      <th>mother.selfing_count</th>\n",
       "      <th>mother.market_class</th>\n",
       "      <th>mother.release_date</th>\n",
       "      <th>mother.developer</th>\n",
       "      <th>mother.parentage</th>\n",
       "      <th>mother.aliases</th>\n",
       "      <th>mother</th>\n",
       "    </tr>\n",
       "  </thead>\n",
       "  <tbody>\n",
       "    <tr>\n",
       "      <th>0</th>\n",
       "      <td>135 (GID:135)</td>\n",
       "      <td>wheat</td>\n",
       "      <td>False</td>\n",
       "      <td>0</td>\n",
       "      <td>2</td>\n",
       "      <td>None</td>\n",
       "      <td>None</td>\n",
       "      <td>None</td>\n",
       "      <td>None</td>\n",
       "      <td>[{'name': '135', 'type': 'germplasm_bank_id'},...</td>\n",
       "      <td>...</td>\n",
       "      <td>wheat</td>\n",
       "      <td>False</td>\n",
       "      <td>0.0</td>\n",
       "      <td>1.0</td>\n",
       "      <td>NaN</td>\n",
       "      <td>NaN</td>\n",
       "      <td>NaN</td>\n",
       "      <td>NaN</td>\n",
       "      <td>[{'name': '3700', 'type': 'germplasm_bank_id'}...</td>\n",
       "      <td>NaN</td>\n",
       "    </tr>\n",
       "    <tr>\n",
       "      <th>1</th>\n",
       "      <td>TURKEY (GID:10509)</td>\n",
       "      <td>wheat</td>\n",
       "      <td>False</td>\n",
       "      <td>0</td>\n",
       "      <td>0</td>\n",
       "      <td>None</td>\n",
       "      <td>None</td>\n",
       "      <td>None</td>\n",
       "      <td>None</td>\n",
       "      <td>[{'name': '10509', 'type': 'germplasm_bank_id'...</td>\n",
       "      <td>...</td>\n",
       "      <td>NaN</td>\n",
       "      <td>NaN</td>\n",
       "      <td>NaN</td>\n",
       "      <td>NaN</td>\n",
       "      <td>NaN</td>\n",
       "      <td>NaN</td>\n",
       "      <td>NaN</td>\n",
       "      <td>NaN</td>\n",
       "      <td>NaN</td>\n",
       "      <td>NaN</td>\n",
       "    </tr>\n",
       "  </tbody>\n",
       "</table>\n",
       "<p>2 rows × 23 columns</p>\n",
       "</div>"
      ],
      "text/plain": [
       "       preferred_name crop_name  is_landrace  backcross_depth  selfing_count  \\\n",
       "0       135 (GID:135)     wheat        False                0              2   \n",
       "1  TURKEY (GID:10509)     wheat        False                0              0   \n",
       "\n",
       "  market_class release_date developer parentage  \\\n",
       "0         None         None      None      None   \n",
       "1         None         None      None      None   \n",
       "\n",
       "                                             aliases  ... mother.crop_name  \\\n",
       "0  [{'name': '135', 'type': 'germplasm_bank_id'},...  ...            wheat   \n",
       "1  [{'name': '10509', 'type': 'germplasm_bank_id'...  ...              NaN   \n",
       "\n",
       "  mother.is_landrace mother.backcross_depth mother.selfing_count  \\\n",
       "0              False                    0.0                  1.0   \n",
       "1                NaN                    NaN                  NaN   \n",
       "\n",
       "  mother.market_class  mother.release_date  mother.developer  \\\n",
       "0                 NaN                  NaN               NaN   \n",
       "1                 NaN                  NaN               NaN   \n",
       "\n",
       "   mother.parentage                                     mother.aliases  mother  \n",
       "0               NaN  [{'name': '3700', 'type': 'germplasm_bank_id'}...     NaN  \n",
       "1               NaN                                                NaN     NaN  \n",
       "\n",
       "[2 rows x 23 columns]"
      ]
     },
     "execution_count": 2,
     "metadata": {},
     "output_type": "execute_result"
    }
   ],
   "source": [
    "params = {'pedigree_depth': 5}\n",
    "variety = escape('TURKEY')\n",
    "res = s.get(f'{base}/{variety}', params=params)\n",
    "df = pd.json_normalize(res.json())\n",
    "df"
   ]
  },
  {
   "cell_type": "markdown",
   "id": "moral-deadline",
   "metadata": {},
   "source": [
    "### Cool two items were returned. Buty whay was the variety '135' returned? Check the aliases."
   ]
  },
  {
   "cell_type": "code",
   "execution_count": 3,
   "id": "radical-stewart",
   "metadata": {},
   "outputs": [
    {
     "data": {
      "text/plain": [
       "[{'name': '135', 'type': 'germplasm_bank_id'},\n",
       " {'name': 'CWI51783', 'type': 'germplasm_bank_accession_id'},\n",
       " {'name': 'P.1066-?-?', 'type': 'selection_history'},\n",
       " {'name': 'TK', 'type': 'cross_abbreviation'},\n",
       " {'name': 'TURKEY', 'type': 'cross_name'}]"
      ]
     },
     "execution_count": 3,
     "metadata": {},
     "output_type": "execute_result"
    }
   ],
   "source": [
    "df['aliases'][0]"
   ]
  },
  {
   "cell_type": "markdown",
   "id": "12b5baed-c0b6-4089-8db1-3c65d4a9624c",
   "metadata": {},
   "source": [
    "### What are all the columns I can check out from the above data frame?"
   ]
  },
  {
   "cell_type": "code",
   "execution_count": 4,
   "id": "f61b86a2-cf18-4942-a6b7-f012ef924f70",
   "metadata": {},
   "outputs": [
    {
     "data": {
      "text/plain": [
       "Index(['preferred_name', 'crop_name', 'is_landrace', 'backcross_depth',\n",
       "       'selfing_count', 'market_class', 'release_date', 'developer',\n",
       "       'parentage', 'aliases', 'father', 'pedigree', 'mother.preferred_name',\n",
       "       'mother.crop_name', 'mother.is_landrace', 'mother.backcross_depth',\n",
       "       'mother.selfing_count', 'mother.market_class', 'mother.release_date',\n",
       "       'mother.developer', 'mother.parentage', 'mother.aliases', 'mother'],\n",
       "      dtype='object')"
      ]
     },
     "execution_count": 4,
     "metadata": {},
     "output_type": "execute_result"
    }
   ],
   "source": [
    "df.columns"
   ]
  },
  {
   "cell_type": "markdown",
   "id": "66611c5e-2c37-4494-b588-43243a37611f",
   "metadata": {},
   "source": [
    "Notice that there are lots of columns describing attributes of the mother but not of the father. As you'll see below, this is because the Father of both returned varieties is Null."
   ]
  },
  {
   "cell_type": "code",
   "execution_count": 5,
   "id": "75052d17-ff8b-4110-8beb-259f2c84f156",
   "metadata": {},
   "outputs": [
    {
     "data": {
      "text/plain": [
       "0    None\n",
       "1    None\n",
       "Name: father, dtype: object"
      ]
     },
     "execution_count": 5,
     "metadata": {},
     "output_type": "execute_result"
    }
   ],
   "source": [
    "df['father']"
   ]
  },
  {
   "cell_type": "markdown",
   "id": "sixth-leather",
   "metadata": {},
   "source": [
    "### Let's check another entry, and retrieve its pedigree to a depth of 5 (great-great-great grandparents)."
   ]
  },
  {
   "cell_type": "code",
   "execution_count": 16,
   "id": "lyric-mills",
   "metadata": {},
   "outputs": [
    {
     "ename": "JSONDecodeError",
     "evalue": "Expecting value: line 1 column 1 (char 0)",
     "output_type": "error",
     "traceback": [
      "\u001b[0;31m---------------------------------------------------------------------------\u001b[0m",
      "\u001b[0;31mJSONDecodeError\u001b[0m                           Traceback (most recent call last)",
      "File \u001b[0;32m~/miniconda3/lib/python3.12/site-packages/requests/models.py:974\u001b[0m, in \u001b[0;36mResponse.json\u001b[0;34m(self, **kwargs)\u001b[0m\n\u001b[1;32m    973\u001b[0m \u001b[38;5;28;01mtry\u001b[39;00m:\n\u001b[0;32m--> 974\u001b[0m     \u001b[38;5;28;01mreturn\u001b[39;00m \u001b[43mcomplexjson\u001b[49m\u001b[38;5;241;43m.\u001b[39;49m\u001b[43mloads\u001b[49m\u001b[43m(\u001b[49m\u001b[38;5;28;43mself\u001b[39;49m\u001b[38;5;241;43m.\u001b[39;49m\u001b[43mtext\u001b[49m\u001b[43m,\u001b[49m\u001b[43m \u001b[49m\u001b[38;5;241;43m*\u001b[39;49m\u001b[38;5;241;43m*\u001b[39;49m\u001b[43mkwargs\u001b[49m\u001b[43m)\u001b[49m\n\u001b[1;32m    975\u001b[0m \u001b[38;5;28;01mexcept\u001b[39;00m JSONDecodeError \u001b[38;5;28;01mas\u001b[39;00m e:\n\u001b[1;32m    976\u001b[0m     \u001b[38;5;66;03m# Catch JSON-related errors and raise as requests.JSONDecodeError\u001b[39;00m\n\u001b[1;32m    977\u001b[0m     \u001b[38;5;66;03m# This aliases json.JSONDecodeError and simplejson.JSONDecodeError\u001b[39;00m\n",
      "File \u001b[0;32m~/miniconda3/lib/python3.12/json/__init__.py:346\u001b[0m, in \u001b[0;36mloads\u001b[0;34m(s, cls, object_hook, parse_float, parse_int, parse_constant, object_pairs_hook, **kw)\u001b[0m\n\u001b[1;32m    343\u001b[0m \u001b[38;5;28;01mif\u001b[39;00m (\u001b[38;5;28mcls\u001b[39m \u001b[38;5;129;01mis\u001b[39;00m \u001b[38;5;28;01mNone\u001b[39;00m \u001b[38;5;129;01mand\u001b[39;00m object_hook \u001b[38;5;129;01mis\u001b[39;00m \u001b[38;5;28;01mNone\u001b[39;00m \u001b[38;5;129;01mand\u001b[39;00m\n\u001b[1;32m    344\u001b[0m         parse_int \u001b[38;5;129;01mis\u001b[39;00m \u001b[38;5;28;01mNone\u001b[39;00m \u001b[38;5;129;01mand\u001b[39;00m parse_float \u001b[38;5;129;01mis\u001b[39;00m \u001b[38;5;28;01mNone\u001b[39;00m \u001b[38;5;129;01mand\u001b[39;00m\n\u001b[1;32m    345\u001b[0m         parse_constant \u001b[38;5;129;01mis\u001b[39;00m \u001b[38;5;28;01mNone\u001b[39;00m \u001b[38;5;129;01mand\u001b[39;00m object_pairs_hook \u001b[38;5;129;01mis\u001b[39;00m \u001b[38;5;28;01mNone\u001b[39;00m \u001b[38;5;129;01mand\u001b[39;00m \u001b[38;5;129;01mnot\u001b[39;00m kw):\n\u001b[0;32m--> 346\u001b[0m     \u001b[38;5;28;01mreturn\u001b[39;00m \u001b[43m_default_decoder\u001b[49m\u001b[38;5;241;43m.\u001b[39;49m\u001b[43mdecode\u001b[49m\u001b[43m(\u001b[49m\u001b[43ms\u001b[49m\u001b[43m)\u001b[49m\n\u001b[1;32m    347\u001b[0m \u001b[38;5;28;01mif\u001b[39;00m \u001b[38;5;28mcls\u001b[39m \u001b[38;5;129;01mis\u001b[39;00m \u001b[38;5;28;01mNone\u001b[39;00m:\n",
      "File \u001b[0;32m~/miniconda3/lib/python3.12/json/decoder.py:337\u001b[0m, in \u001b[0;36mJSONDecoder.decode\u001b[0;34m(self, s, _w)\u001b[0m\n\u001b[1;32m    333\u001b[0m \u001b[38;5;250m\u001b[39m\u001b[38;5;124;03m\"\"\"Return the Python representation of ``s`` (a ``str`` instance\u001b[39;00m\n\u001b[1;32m    334\u001b[0m \u001b[38;5;124;03mcontaining a JSON document).\u001b[39;00m\n\u001b[1;32m    335\u001b[0m \n\u001b[1;32m    336\u001b[0m \u001b[38;5;124;03m\"\"\"\u001b[39;00m\n\u001b[0;32m--> 337\u001b[0m obj, end \u001b[38;5;241m=\u001b[39m \u001b[38;5;28;43mself\u001b[39;49m\u001b[38;5;241;43m.\u001b[39;49m\u001b[43mraw_decode\u001b[49m\u001b[43m(\u001b[49m\u001b[43ms\u001b[49m\u001b[43m,\u001b[49m\u001b[43m \u001b[49m\u001b[43midx\u001b[49m\u001b[38;5;241;43m=\u001b[39;49m\u001b[43m_w\u001b[49m\u001b[43m(\u001b[49m\u001b[43ms\u001b[49m\u001b[43m,\u001b[49m\u001b[43m \u001b[49m\u001b[38;5;241;43m0\u001b[39;49m\u001b[43m)\u001b[49m\u001b[38;5;241;43m.\u001b[39;49m\u001b[43mend\u001b[49m\u001b[43m(\u001b[49m\u001b[43m)\u001b[49m\u001b[43m)\u001b[49m\n\u001b[1;32m    338\u001b[0m end \u001b[38;5;241m=\u001b[39m _w(s, end)\u001b[38;5;241m.\u001b[39mend()\n",
      "File \u001b[0;32m~/miniconda3/lib/python3.12/json/decoder.py:355\u001b[0m, in \u001b[0;36mJSONDecoder.raw_decode\u001b[0;34m(self, s, idx)\u001b[0m\n\u001b[1;32m    354\u001b[0m \u001b[38;5;28;01mexcept\u001b[39;00m \u001b[38;5;167;01mStopIteration\u001b[39;00m \u001b[38;5;28;01mas\u001b[39;00m err:\n\u001b[0;32m--> 355\u001b[0m     \u001b[38;5;28;01mraise\u001b[39;00m JSONDecodeError(\u001b[38;5;124m\"\u001b[39m\u001b[38;5;124mExpecting value\u001b[39m\u001b[38;5;124m\"\u001b[39m, s, err\u001b[38;5;241m.\u001b[39mvalue) \u001b[38;5;28;01mfrom\u001b[39;00m\u001b[38;5;250m \u001b[39m\u001b[38;5;28;01mNone\u001b[39;00m\n\u001b[1;32m    356\u001b[0m \u001b[38;5;28;01mreturn\u001b[39;00m obj, end\n",
      "\u001b[0;31mJSONDecodeError\u001b[0m: Expecting value: line 1 column 1 (char 0)",
      "\nDuring handling of the above exception, another exception occurred:\n",
      "\u001b[0;31mJSONDecodeError\u001b[0m                           Traceback (most recent call last)",
      "Cell \u001b[0;32mIn[16], line 4\u001b[0m\n\u001b[1;32m      2\u001b[0m variety \u001b[38;5;241m=\u001b[39m escape(\u001b[38;5;124m'\u001b[39m\u001b[38;5;124mSANDPIPER\u001b[39m\u001b[38;5;124m'\u001b[39m)\n\u001b[1;32m      3\u001b[0m res \u001b[38;5;241m=\u001b[39m s\u001b[38;5;241m.\u001b[39mget(\u001b[38;5;124mf\u001b[39m\u001b[38;5;124m'\u001b[39m\u001b[38;5;132;01m{\u001b[39;00mbase\u001b[38;5;132;01m}\u001b[39;00m\u001b[38;5;124m/\u001b[39m\u001b[38;5;132;01m{\u001b[39;00mvariety\u001b[38;5;132;01m}\u001b[39;00m\u001b[38;5;124m'\u001b[39m, params\u001b[38;5;241m=\u001b[39mparams)\n\u001b[0;32m----> 4\u001b[0m df \u001b[38;5;241m=\u001b[39m pd\u001b[38;5;241m.\u001b[39mjson_normalize(\u001b[43mres\u001b[49m\u001b[38;5;241;43m.\u001b[39;49m\u001b[43mjson\u001b[49m\u001b[43m(\u001b[49m\u001b[43m)\u001b[49m)\n\u001b[1;32m      5\u001b[0m df\n",
      "File \u001b[0;32m~/miniconda3/lib/python3.12/site-packages/requests/models.py:978\u001b[0m, in \u001b[0;36mResponse.json\u001b[0;34m(self, **kwargs)\u001b[0m\n\u001b[1;32m    974\u001b[0m     \u001b[38;5;28;01mreturn\u001b[39;00m complexjson\u001b[38;5;241m.\u001b[39mloads(\u001b[38;5;28mself\u001b[39m\u001b[38;5;241m.\u001b[39mtext, \u001b[38;5;241m*\u001b[39m\u001b[38;5;241m*\u001b[39mkwargs)\n\u001b[1;32m    975\u001b[0m \u001b[38;5;28;01mexcept\u001b[39;00m JSONDecodeError \u001b[38;5;28;01mas\u001b[39;00m e:\n\u001b[1;32m    976\u001b[0m     \u001b[38;5;66;03m# Catch JSON-related errors and raise as requests.JSONDecodeError\u001b[39;00m\n\u001b[1;32m    977\u001b[0m     \u001b[38;5;66;03m# This aliases json.JSONDecodeError and simplejson.JSONDecodeError\u001b[39;00m\n\u001b[0;32m--> 978\u001b[0m     \u001b[38;5;28;01mraise\u001b[39;00m RequestsJSONDecodeError(e\u001b[38;5;241m.\u001b[39mmsg, e\u001b[38;5;241m.\u001b[39mdoc, e\u001b[38;5;241m.\u001b[39mpos)\n",
      "\u001b[0;31mJSONDecodeError\u001b[0m: Expecting value: line 1 column 1 (char 0)"
     ]
    }
   ],
   "source": [
    "params = {'pedigree_depth': 5}\n",
    "variety = escape('SANDPIPER')\n",
    "res = s.get(f'{base}/{variety}', params=params)\n",
    "df = pd.json_normalize(res.json())\n",
    "df"
   ]
  },
  {
   "cell_type": "markdown",
   "id": "jewish-tuesday",
   "metadata": {},
   "source": [
    "### One match. Let's retrieve its pedigree."
   ]
  },
  {
   "cell_type": "code",
   "execution_count": 15,
   "id": "corresponding-workshop",
   "metadata": {},
   "outputs": [
    {
     "data": {
      "text/plain": [
       "'D23055 (GID:1010) / ###252110 /2/ ###7220 (###7220) F6'"
      ]
     },
     "execution_count": 15,
     "metadata": {},
     "output_type": "execute_result"
    }
   ],
   "source": [
    "df['pedigree'][0]"
   ]
  },
  {
   "cell_type": "markdown",
   "id": "optional-proceeding",
   "metadata": {},
   "source": [
    "### How do I find the Coefficient of Parentage (COP) between any arbitrary pair of varieties?\n",
    "We use the `/{variety1}/{variety2}/cop` endpoint to obtain the COP between two varieties, variety1 and variety2."
   ]
  },
  {
   "cell_type": "code",
   "execution_count": null,
   "id": "junior-alignment",
   "metadata": {},
   "outputs": [],
   "source": [
    "var1 = escape('GAVIOTA')\n",
    "var2 = escape('SANDPIPER')\n",
    "res = s.get(f'{base}/{var1}/{var2}/cop')\n",
    "pd.json_normalize(res.json())"
   ]
  }
 ],
 "metadata": {
  "kernelspec": {
   "display_name": "Python 3 (ipykernel)",
   "language": "python",
   "name": "python3"
  },
  "language_info": {
   "codemirror_mode": {
    "name": "ipython",
    "version": 3
   },
   "file_extension": ".py",
   "mimetype": "text/x-python",
   "name": "python",
   "nbconvert_exporter": "python",
   "pygments_lexer": "ipython3",
   "version": "3.12.7"
  }
 },
 "nbformat": 4,
 "nbformat_minor": 5
}
