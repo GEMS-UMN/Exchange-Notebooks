{
 "cells": [
  {
   "cell_type": "markdown",
   "id": "serious-poetry",
   "metadata": {},
   "source": [
    "# GEMS PedTools Example Usage for R\n",
    "Below is a simple example that illustrates how to access data in the PedTools database.\n",
    "### Set up an HTTP client using Python's request library\n",
    "We use a `Session` object to store our API key and automatically include it in the header for each request.\n",
    "\n",
    "Note that we have a `api_key.R` file in the Exchange-Notebooks directory. The file contains only the below line.\n",
    "```\n",
    "api_key <- 'SECRET'\n",
    "```"
   ]
  },
  {
   "cell_type": "code",
   "execution_count": 1,
   "id": "incoming-while",
   "metadata": {},
   "outputs": [
    {
     "name": "stderr",
     "output_type": "stream",
     "text": [
      "\n",
      "Attaching package: ‘dplyr’\n",
      "\n",
      "\n",
      "The following objects are masked from ‘package:stats’:\n",
      "\n",
      "    filter, lag\n",
      "\n",
      "\n",
      "The following objects are masked from ‘package:base’:\n",
      "\n",
      "    intersect, setdiff, setequal, union\n",
      "\n",
      "\n"
     ]
    }
   ],
   "source": [
    "# Load necessary libraries\n",
    "library(httr)\n",
    "library(jsonlite)\n",
    "library(dplyr)"
   ]
  },
  {
   "cell_type": "markdown",
   "id": "sophisticated-classic",
   "metadata": {},
   "source": [
    "### Set up an HTTP client"
   ]
  },
  {
   "cell_type": "code",
   "execution_count": 2,
   "id": "round-florist",
   "metadata": {},
   "outputs": [],
   "source": [
    "# Grab your API Key and assign it to api_key\n",
    "source(\"api_key.R\")\n",
    "\n",
    "# Initialize session headers\n",
    "headers <- add_headers(apikey = api_key)\n",
    "\n",
    "# Define base URL\n",
    "# Uncomment the base URL you wish to use\n",
    "base <- \"https://exchange-1.gems.msi.umn.edu/pedtools/v1\""
   ]
  },
  {
   "cell_type": "markdown",
   "id": "hydraulic-heavy",
   "metadata": {},
   "source": [
    "### Grab all information for a specific variety"
   ]
  },
  {
   "cell_type": "code",
   "execution_count": 3,
   "id": "mature-therapist",
   "metadata": {},
   "outputs": [
    {
     "name": "stdout",
     "output_type": "stream",
     "text": [
      "    preferred_name crop_name backcross_str selfing_count market_class\n",
      "1 TURKEY GID:10509     wheat                           0           NA\n",
      "2   TURKEY GID:135     wheat                           2           NA\n",
      "  release_date developer parentage\n",
      "1           NA        NA        NA\n",
      "2           NA        NA        NA\n",
      "                                                                                                                                   aliases\n",
      "1                                                                          10509, TURKEY, TURKEY 13.R, germplasm_bank_id, bcid, cross_name\n",
      "2 135, CWI51783, P.1066-?-?, TK, TURKEY, germplasm_bank_id, germplasm_bank_accession_id, selection_history, cross_abbreviation, cross_name\n",
      "  father                  pedigree mother.preferred_name mother.crop_name\n",
      "1     NA          TURKEY GID:10509                  <NA>             <NA>\n",
      "2     NA P.1066 GID:25 (P.1066) F2     P.1066-? GID:3700            wheat\n",
      "  mother.backcross_str mother.selfing_count mother.market_class\n",
      "1                 <NA>                   NA                  NA\n",
      "2                                         1                  NA\n",
      "  mother.release_date mother.developer mother.parentage\n",
      "1                  NA               NA               NA\n",
      "2                  NA               NA               NA\n",
      "                                                             mother.aliases\n",
      "1                                                                      NULL\n",
      "2 3700, CRIMEAN, P.1066-?, germplasm_bank_id, cross_name, selection_history\n"
     ]
    }
   ],
   "source": [
    "# Query information for a specific variety\n",
    "params <- list(pedigree_depth = 5)\n",
    "variety <- URLencode(\"TURKEY\", reserved = TRUE)\n",
    "url <- paste0(base, \"/\", variety)\n",
    "\n",
    "# Perform GET request\n",
    "response <- GET(url, headers, query = params)\n",
    "\n",
    "# Check if the request was successful\n",
    "if (status_code(response) == 200) {\n",
    "  # Parse JSON response and convert to a data frame\n",
    "  content <- content(response, as = \"text\", encoding = \"UTF-8\")\n",
    "  data <- fromJSON(content, flatten = TRUE) %>% as.data.frame()\n",
    "  print(data)\n",
    "} else {\n",
    "  cat(\"Error:\", status_code(response), \"-\", content(response, as = \"text\"), \"\\n\")\n",
    "}"
   ]
  },
  {
   "cell_type": "markdown",
   "id": "f060f2c5-e44a-4f0c-af20-3baae863c71f",
   "metadata": {},
   "source": [
    "### What are the aliases for the returned varieties?"
   ]
  },
  {
   "cell_type": "code",
   "execution_count": 4,
   "id": "94137d05-18d0-4f69-b278-374085cb51c0",
   "metadata": {},
   "outputs": [
    {
     "name": "stdout",
     "output_type": "stream",
     "text": [
      "[1] \"Aliases for the varieties:\"\n",
      "[[1]]\n",
      "         name              type\n",
      "1       10509 germplasm_bank_id\n",
      "2      TURKEY              bcid\n",
      "3 TURKEY 13.R        cross_name\n",
      "\n",
      "[[2]]\n",
      "        name                        type\n",
      "1        135           germplasm_bank_id\n",
      "2   CWI51783 germplasm_bank_accession_id\n",
      "3 P.1066-?-?           selection_history\n",
      "4         TK          cross_abbreviation\n",
      "5     TURKEY                  cross_name\n",
      "\n"
     ]
    }
   ],
   "source": [
    "if (\"aliases\" %in% colnames(data)) {\n",
    "    print(\"Aliases for the varieties:\")\n",
    "    print(data$aliases)\n",
    "} else {\n",
    "    print(\"No aliases found.\")\n",
    "}"
   ]
  },
  {
   "cell_type": "markdown",
   "id": "e0af9930-820b-465a-868a-70fb1b7f0750",
   "metadata": {},
   "source": [
    "### Let's check another entry, and retrieve its pedigree to a depth of 5 (great-great-great grandparents)."
   ]
  },
  {
   "cell_type": "code",
   "execution_count": 5,
   "id": "662978a6-2ab7-4d9f-bd11-b3eb896aaee0",
   "metadata": {},
   "outputs": [
    {
     "name": "stdout",
     "output_type": "stream",
     "text": [
      "[1] \"###123561 / STEWART 63 /2/ 980 GID:980 / WELLS /3/ ###123633 / TEHUACAN 60 /2/ 980 GID:980 / WELLS /4/ POLONICUM PI185309 /2/ ###250171 / TEHUACAN 60 /3/ ###123633 / TEHUACAN 60 /2/ 980 GID:980 / WELLS /5/ II23584 GID:417 (II23584) F6 /2/ 3852 (###6385) F2 /3/ 3855 (###3926) F1 (###7220) F6\"\n"
     ]
    }
   ],
   "source": [
    "# Query pedigree information for a specific variety\n",
    "params <- list(pedigree_depth = 5)\n",
    "variety <- URLencode(\"SANDPIPER\", reserved = TRUE)\n",
    "url <- paste0(base, \"/\", variety)\n",
    "\n",
    "# Perform GET request\n",
    "response <- GET(url, headers, query = params)\n",
    "\n",
    "# Check if the request was successful\n",
    "if (status_code(response) == 200) {\n",
    "  # Parse JSON response and convert to a data frame\n",
    "  content <- content(response, as = \"text\", encoding = \"UTF-8\")\n",
    "  data <- fromJSON(content, flatten = TRUE) %>% as.data.frame()\n",
    "  print(data$pedigree)\n",
    "} else {\n",
    "  cat(\"Error:\", status_code(response), \"-\", content(response, as = \"text\"), \"\\n\")\n",
    "}"
   ]
  },
  {
   "cell_type": "markdown",
   "id": "a60c2aed-8e15-45c9-aadf-c2b57785ac4b",
   "metadata": {},
   "source": [
    "### How do I find a matrix of Coefficient of Parentage (COP) values among any arbitrary list of varieties?\n",
    "We use the post request `cop/matrix` endpoint to obtain the COP matrix as follows. Note that names of varieties do *not* need to be quote escaped since they will be in the body of the post not in the URL."
   ]
  },
  {
   "cell_type": "code",
   "execution_count": 6,
   "id": "519c279b-4f10-4cb0-b824-d2a67e8d7efd",
   "metadata": {},
   "outputs": [
    {
     "name": "stdout",
     "output_type": "stream",
     "text": [
      "  reverse_mapping.FLAMINGO reverse_mapping.GAVIOTA reverse_mapping.SANDPIPER\n",
      "1                 FLAMINGO                 GAVIOTA                 SANDPIPER\n",
      "2                 FLAMINGO                 GAVIOTA                 SANDPIPER\n",
      "  reverse_mapping.TURKEY.GID.135 reverse_mapping.TURKEY.GID.10509\n",
      "1                         TURKEY                           TURKEY\n",
      "2                         TURKEY                           TURKEY\n",
      "  forward_mapping.FLAMINGO forward_mapping.GAVIOTA forward_mapping.SANDPIPER\n",
      "1                 FLAMINGO                 GAVIOTA                 SANDPIPER\n",
      "2                 FLAMINGO                 GAVIOTA                 SANDPIPER\n",
      "  forward_mapping.TURKEY cop.FLAMINGO.FLAMINGO cop.FLAMINGO.GAVIOTA\n",
      "1         TURKEY GID:135             0.9921875                    0\n",
      "2       TURKEY GID:10509             0.9921875                    0\n",
      "  cop.FLAMINGO.SANDPIPER cop.FLAMINGO.TURKEY.GID.135\n",
      "1              0.4960938                           0\n",
      "2              0.4960938                           0\n",
      "  cop.FLAMINGO.TURKEY.GID.10509 cop.GAVIOTA.FLAMINGO cop.GAVIOTA.GAVIOTA\n",
      "1                             0                    0                 0.5\n",
      "2                             0                    0                 0.5\n",
      "  cop.GAVIOTA.SANDPIPER cop.GAVIOTA.TURKEY.GID.135 cop.GAVIOTA.TURKEY.GID.10509\n",
      "1                  0.25                          0                            0\n",
      "2                  0.25                          0                            0\n",
      "  cop.SANDPIPER.FLAMINGO cop.SANDPIPER.GAVIOTA cop.SANDPIPER.SANDPIPER\n",
      "1              0.4960938                  0.25                     0.5\n",
      "2              0.4960938                  0.25                     0.5\n",
      "  cop.SANDPIPER.TURKEY.GID.135 cop.SANDPIPER.TURKEY.GID.10509\n",
      "1                            0                              0\n",
      "2                            0                              0\n",
      "  cop.TURKEY.GID.135.FLAMINGO cop.TURKEY.GID.135.GAVIOTA\n",
      "1                           0                          0\n",
      "2                           0                          0\n",
      "  cop.TURKEY.GID.135.SANDPIPER cop.TURKEY.GID.135.TURKEY.GID.135\n",
      "1                            0                             0.875\n",
      "2                            0                             0.875\n",
      "  cop.TURKEY.GID.135.TURKEY.GID.10509 cop.TURKEY.GID.10509.FLAMINGO\n",
      "1                                   0                             0\n",
      "2                                   0                             0\n",
      "  cop.TURKEY.GID.10509.GAVIOTA cop.TURKEY.GID.10509.SANDPIPER\n",
      "1                            0                              0\n",
      "2                            0                              0\n",
      "  cop.TURKEY.GID.10509.TURKEY.GID.135 cop.TURKEY.GID.10509.TURKEY.GID.10509\n",
      "1                                   0                                   0.5\n",
      "2                                   0                                   0.5\n"
     ]
    }
   ],
   "source": [
    "params <- list(max_depth = 20)\n",
    "var_list <- '[\"FLAMINGO\", \"SANDPIPER\", \"GAVIOTA\", \"TURKEY\"]'\n",
    "url <- paste0(base, \"/cop/matrix\")\n",
    "\n",
    "# Perform POST request\n",
    "response <- POST(url, headers, query = params, body = var_list, encode = \"json\")\n",
    "\n",
    "# Check if the request was successful\n",
    "if (status_code(response) == 200) {\n",
    "  # Parse JSON response and convert to a data frame\n",
    "  content <- content(response, as = \"text\", encoding = \"UTF-8\")\n",
    "  data <- fromJSON(content, flatten = TRUE) %>% as.data.frame()\n",
    "  print(data)\n",
    "} else {\n",
    "  cat(\"Error:\", status_code(response), \"-\", content(response, as = \"text\"), \"\\n\")\n",
    "}"
   ]
  },
  {
   "cell_type": "code",
   "execution_count": null,
   "id": "5abe3e0f-1cf5-4d72-b088-e365953ef486",
   "metadata": {},
   "outputs": [],
   "source": []
  }
 ],
 "metadata": {
  "kernelspec": {
   "display_name": "R",
   "language": "R",
   "name": "ir"
  },
  "language_info": {
   "codemirror_mode": "r",
   "file_extension": ".r",
   "mimetype": "text/x-r-source",
   "name": "R",
   "pygments_lexer": "r",
   "version": "4.3.3"
  }
 },
 "nbformat": 4,
 "nbformat_minor": 5
}
