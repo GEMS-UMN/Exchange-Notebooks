{
 "cells": [
  {
   "cell_type": "markdown",
   "id": "serious-poetry",
   "metadata": {},
   "source": [
    "# GEMS PedTools Example Usage for R\n",
    "Below is a simple example that illustrates how to access data in the PedTools database.\n",
    "### Set up an HTTP client using Python's request library\n",
    "We use a `Session` object to store our API key and automatically include it in the header for each request.\n",
    "\n",
    "Note that we have a `api_key.R` file in the Exchange-Notebooks directory. The file contains only the below line.\n",
    "```\n",
    "api_key <- 'SECRET'\n",
    "```"
   ]
  },
  {
   "cell_type": "code",
   "execution_count": 1,
   "id": "incoming-while",
   "metadata": {},
   "outputs": [
    {
     "name": "stderr",
     "output_type": "stream",
     "text": [
      "\n",
      "Attaching package: ‘dplyr’\n",
      "\n",
      "\n",
      "The following objects are masked from ‘package:stats’:\n",
      "\n",
      "    filter, lag\n",
      "\n",
      "\n",
      "The following objects are masked from ‘package:base’:\n",
      "\n",
      "    intersect, setdiff, setequal, union\n",
      "\n",
      "\n"
     ]
    }
   ],
   "source": [
    "# Load necessary libraries\n",
    "library(httr)\n",
    "library(jsonlite)\n",
    "library(dplyr)"
   ]
  },
  {
   "cell_type": "markdown",
   "id": "sophisticated-classic",
   "metadata": {},
   "source": [
    "### Set up an HTTP client"
   ]
  },
  {
   "cell_type": "code",
   "execution_count": 1,
   "id": "round-florist",
   "metadata": {},
   "outputs": [
    {
     "ename": "ERROR",
     "evalue": "Error in add_headers(apikey = api_key): could not find function \"add_headers\"\n",
     "output_type": "error",
     "traceback": [
      "Error in add_headers(apikey = api_key): could not find function \"add_headers\"\nTraceback:\n"
     ]
    }
   ],
   "source": [
    "# Grab your API Key and assign it to api_key\n",
    "source(\"api_key.R\")\n",
    "#api_key <- \"mgM3W0g58Xv3v6B1X16-Gg\"\n",
    "\n",
    "# Initialize session headers\n",
    "headers <- add_headers(apikey = api_key)\n",
    "\n",
    "# Define base URL\n",
    "# Uncomment the base URL you wish to use\n",
    "base <- \"https://exchange-1.gems.msi.umn.edu/pedtools/v1\"\n",
    "# base <- \"https://exchange-dev.gems.msi.umn.edu/pedtools/v1\"\n"
   ]
  },
  {
   "cell_type": "markdown",
   "id": "hydraulic-heavy",
   "metadata": {},
   "source": [
    "### Grab all information for a specific variety"
   ]
  },
  {
   "cell_type": "code",
   "execution_count": 3,
   "id": "mature-therapist",
   "metadata": {},
   "outputs": [
    {
     "name": "stdout",
     "output_type": "stream",
     "text": [
      "    preferred_name crop_name is_landrace backcross_depth selfing_count\n",
      "1   TURKEY GID:135     wheat       FALSE               0             2\n",
      "2 TURKEY GID:10509     wheat       FALSE               0             0\n",
      "  market_class release_date developer parentage\n",
      "1           NA           NA        NA        NA\n",
      "2           NA           NA        NA        NA\n",
      "                                                                                                                                   aliases\n",
      "1 135, CWI51783, P.1066-?-?, TK, TURKEY, germplasm_bank_id, germplasm_bank_accession_id, selection_history, cross_abbreviation, cross_name\n",
      "2                                                                          10509, TURKEY, TURKEY 13.R, germplasm_bank_id, bcid, cross_name\n",
      "  father              pedigree mother.preferred_name mother.crop_name\n",
      "1     NA P.1066 GID:25 (25) F2     P.1066-? GID:3700            wheat\n",
      "2     NA      TURKEY GID:10509                  <NA>             <NA>\n",
      "  mother.is_landrace mother.backcross_depth mother.selfing_count\n",
      "1              FALSE                      0                    1\n",
      "2                 NA                     NA                   NA\n",
      "  mother.market_class mother.release_date mother.developer mother.parentage\n",
      "1                  NA                  NA               NA               NA\n",
      "2                  NA                  NA               NA               NA\n",
      "                                                             mother.aliases\n",
      "1 3700, CRIMEAN, P.1066-?, germplasm_bank_id, cross_name, selection_history\n",
      "2                                                                      NULL\n",
      "[1] \"Aliases for the varieties:\"\n",
      "[[1]]\n",
      "        name                        type\n",
      "1        135           germplasm_bank_id\n",
      "2   CWI51783 germplasm_bank_accession_id\n",
      "3 P.1066-?-?           selection_history\n",
      "4         TK          cross_abbreviation\n",
      "5     TURKEY                  cross_name\n",
      "\n",
      "[[2]]\n",
      "         name              type\n",
      "1       10509 germplasm_bank_id\n",
      "2      TURKEY              bcid\n",
      "3 TURKEY 13.R        cross_name\n",
      "\n"
     ]
    }
   ],
   "source": [
    "# Query information for a specific variety\n",
    "params <- list(pedigree_depth = 5)\n",
    "variety <- URLencode(\"TURKEY\", reserved = TRUE)\n",
    "url <- paste0(base, \"/\", variety)\n",
    "\n",
    "# Perform GET request\n",
    "response <- GET(url, headers, query = params)\n",
    "\n",
    "# Check if the request was successful\n",
    "if (status_code(response) == 200) {\n",
    "  # Parse JSON response and convert to a data frame\n",
    "  content <- content(response, as = \"text\", encoding = \"UTF-8\")\n",
    "  data <- fromJSON(content, flatten = TRUE) %>% as.data.frame()\n",
    "  print(data)\n",
    "\n",
    "  # Example: Checking aliases for returned varieties\n",
    "  if (\"aliases\" %in% colnames(data)) {\n",
    "    print(\"Aliases for the varieties:\")\n",
    "    print(data$aliases)\n",
    "  } else {\n",
    "    print(\"No aliases found.\")\n",
    "  }\n",
    "} else {\n",
    "  cat(\"Error:\", status_code(response), \"-\", content(response, as = \"text\"), \"\\n\")\n",
    "}"
   ]
  }
 ],
 "metadata": {
  "kernelspec": {
   "display_name": "R",
   "language": "R",
   "name": "ir"
  },
  "language_info": {
   "codemirror_mode": "r",
   "file_extension": ".r",
   "mimetype": "text/x-r-source",
   "name": "R",
   "pygments_lexer": "r",
   "version": "4.4.2"
  }
 },
 "nbformat": 4,
 "nbformat_minor": 5
}
