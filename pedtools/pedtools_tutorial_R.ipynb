{
 "cells": [
  {
   "cell_type": "markdown",
   "id": "serious-poetry",
   "metadata": {},
   "source": [
    "# GEMS PedTools Example Usage for R\n",
    "Below is a simple example that illustrates how to access data in the PedTools database.\n",
    "### Set up an HTTP client using Python's request library\n",
    "We use a `Session` object to store our API key and automatically include it in the header for each request.\n",
    "\n",
    "Note that we have a `api_key.R` file in the Exchange-Notebooks directory. The file contains only the below line.\n",
    "```\n",
    "api_key <- 'SECRET'\n",
    "```"
   ]
  },
  {
   "cell_type": "code",
   "execution_count": 1,
   "id": "incoming-while",
   "metadata": {},
   "outputs": [
    {
     "name": "stderr",
     "output_type": "stream",
     "text": [
      "\n",
      "Attaching package: ‘dplyr’\n",
      "\n",
      "\n",
      "The following objects are masked from ‘package:stats’:\n",
      "\n",
      "    filter, lag\n",
      "\n",
      "\n",
      "The following objects are masked from ‘package:base’:\n",
      "\n",
      "    intersect, setdiff, setequal, union\n",
      "\n",
      "\n"
     ]
    }
   ],
   "source": [
    "# Load necessary libraries\n",
    "library(httr)\n",
    "library(jsonlite)\n",
    "library(dplyr)"
   ]
  },
  {
   "cell_type": "markdown",
   "id": "sophisticated-classic",
   "metadata": {},
   "source": [
    "### Set up an HTTP client"
   ]
  },
  {
   "cell_type": "code",
   "execution_count": 2,
   "id": "round-florist",
   "metadata": {},
   "outputs": [],
   "source": [
    "# Grab your API Key and assign it to api_key\n",
    "source(\"api_key.R\")\n",
    "\n",
    "# Initialize session headers\n",
    "headers <- add_headers(apikey = api_key)\n",
    "\n",
    "# Define base URL\n",
    "# Uncomment the base URL you wish to use\n",
    "base <- \"https://exchange-1.gems.msi.umn.edu/pedtools/v1\"\n",
    "# base <- \"https://exchange-dev.gems.msi.umn.edu/pedtools/v1\"\n"
   ]
  },
  {
   "cell_type": "markdown",
   "id": "hydraulic-heavy",
   "metadata": {},
   "source": [
    "### Grab all information for a specific variety"
   ]
  },
  {
   "cell_type": "code",
   "execution_count": 3,
   "id": "mature-therapist",
   "metadata": {},
   "outputs": [
    {
     "name": "stdout",
     "output_type": "stream",
     "text": [
      "    preferred_name crop_name is_landrace backcross_depth selfing_count\n",
      "1   TURKEY GID:135     wheat       FALSE               0             2\n",
      "2 TURKEY GID:10509     wheat       FALSE               0             0\n",
      "  market_class release_date developer parentage\n",
      "1           NA           NA        NA        NA\n",
      "2           NA           NA        NA        NA\n",
      "                                                                                                                                   aliases\n",
      "1 135, CWI51783, P.1066-?-?, TK, TURKEY, germplasm_bank_id, germplasm_bank_accession_id, selection_history, cross_abbreviation, cross_name\n",
      "2                                                                          10509, TURKEY, TURKEY 13.R, germplasm_bank_id, bcid, cross_name\n",
      "  father              pedigree mother.preferred_name mother.crop_name\n",
      "1     NA P.1066 GID:25 (25) F2     P.1066-? GID:3700            wheat\n",
      "2     NA      TURKEY GID:10509                  <NA>             <NA>\n",
      "  mother.is_landrace mother.backcross_depth mother.selfing_count\n",
      "1              FALSE                      0                    1\n",
      "2                 NA                     NA                   NA\n",
      "  mother.market_class mother.release_date mother.developer mother.parentage\n",
      "1                  NA                  NA               NA               NA\n",
      "2                  NA                  NA               NA               NA\n",
      "                                                             mother.aliases\n",
      "1 3700, CRIMEAN, P.1066-?, germplasm_bank_id, cross_name, selection_history\n",
      "2                                                                      NULL\n"
     ]
    }
   ],
   "source": [
    "# Query information for a specific variety\n",
    "params <- list(pedigree_depth = 5)\n",
    "variety <- URLencode(\"TURKEY\", reserved = TRUE)\n",
    "url <- paste0(base, \"/\", variety)\n",
    "\n",
    "# Perform GET request\n",
    "response <- GET(url, headers, query = params)\n",
    "\n",
    "# Check if the request was successful\n",
    "if (status_code(response) == 200) {\n",
    "  # Parse JSON response and convert to a data frame\n",
    "  content <- content(response, as = \"text\", encoding = \"UTF-8\")\n",
    "  data <- fromJSON(content, flatten = TRUE) %>% as.data.frame()\n",
    "  print(data)\n",
    "} else {\n",
    "  cat(\"Error:\", status_code(response), \"-\", content(response, as = \"text\"), \"\\n\")\n",
    "}"
   ]
  },
  {
   "cell_type": "markdown",
   "id": "f060f2c5-e44a-4f0c-af20-3baae863c71f",
   "metadata": {},
   "source": [
    "### What are the aliases for the returned varieties?"
   ]
  },
  {
   "cell_type": "code",
   "execution_count": 4,
   "id": "94137d05-18d0-4f69-b278-374085cb51c0",
   "metadata": {},
   "outputs": [
    {
     "name": "stdout",
     "output_type": "stream",
     "text": [
      "[1] \"Aliases for the varieties:\"\n",
      "[[1]]\n",
      "        name                        type\n",
      "1        135           germplasm_bank_id\n",
      "2   CWI51783 germplasm_bank_accession_id\n",
      "3 P.1066-?-?           selection_history\n",
      "4         TK          cross_abbreviation\n",
      "5     TURKEY                  cross_name\n",
      "\n",
      "[[2]]\n",
      "         name              type\n",
      "1       10509 germplasm_bank_id\n",
      "2      TURKEY              bcid\n",
      "3 TURKEY 13.R        cross_name\n",
      "\n"
     ]
    }
   ],
   "source": [
    "if (\"aliases\" %in% colnames(data)) {\n",
    "    print(\"Aliases for the varieties:\")\n",
    "    print(data$aliases)\n",
    "} else {\n",
    "    print(\"No aliases found.\")\n",
    "}"
   ]
  },
  {
   "cell_type": "markdown",
   "id": "e0af9930-820b-465a-868a-70fb1b7f0750",
   "metadata": {},
   "source": [
    "### Let's check another entry, and retrieve its pedigree to a depth of 5 (great-great-great grandparents)."
   ]
  },
  {
   "cell_type": "code",
   "execution_count": 5,
   "id": "662978a6-2ab7-4d9f-bd11-b3eb896aaee0",
   "metadata": {},
   "outputs": [
    {
     "name": "stdout",
     "output_type": "stream",
     "text": [
      "[1] \"###123561 / STEWART 63 /2/ 980 GID:980 / WELLS /3/ ###123633 / TEHUACAN 60 /2/ 980 GID:980 / WELLS /4/ POLONICUM PI185309 /2/ ###250171 / TEHUACAN 60 /3/ ###123633 / TEHUACAN 60 /2/ 980 GID:980 / WELLS /5/ II23584 GID:417 (417) F6 /2/ ###6385 (###6385) F2 /3/ ###3926 (###3926) F1 (II23584 GID:417 (417) F6 /2/ ###6385 (###6385) F2 /3/ ###3926 (###3926) F1) F6\"\n"
     ]
    }
   ],
   "source": [
    "# Query pedigree information for a specific variety\n",
    "params <- list(pedigree_depth = 5)\n",
    "variety <- URLencode(\"SANDPIPER\", reserved = TRUE)\n",
    "url <- paste0(base, \"/\", variety)\n",
    "\n",
    "# Perform GET request\n",
    "response <- GET(url, headers, query = params)\n",
    "\n",
    "# Check if the request was successful\n",
    "if (status_code(response) == 200) {\n",
    "  # Parse JSON response and convert to a data frame\n",
    "  content <- content(response, as = \"text\", encoding = \"UTF-8\")\n",
    "  data <- fromJSON(content, flatten = TRUE) %>% as.data.frame()\n",
    "  print(data$pedigree)\n",
    "} else {\n",
    "  cat(\"Error:\", status_code(response), \"-\", content(response, as = \"text\"), \"\\n\")\n",
    "}"
   ]
  },
  {
   "cell_type": "markdown",
   "id": "a60c2aed-8e15-45c9-aadf-c2b57785ac4b",
   "metadata": {},
   "source": [
    "### How do I find the Coefficient of Parentage (COP) between any arbitrary pair of varieties?\n",
    "We use the `/{variety1}/{variety2}/cop` endpoint to obtain the COP between two varieties, variety1 and variety2."
   ]
  },
  {
   "cell_type": "code",
   "execution_count": 6,
   "id": "519c279b-4f10-4cb0-b824-d2a67e8d7efd",
   "metadata": {},
   "outputs": [
    {
     "name": "stdout",
     "output_type": "stream",
     "text": [
      "    cop\n",
      "1 0.125\n"
     ]
    }
   ],
   "source": [
    "params <- list(pedigree_depth = 5)\n",
    "var1 <- URLencode(\"###33476\", reserved = TRUE)\n",
    "var2 <- URLencode(\"MEDITERRANEAN\", reserved = TRUE)\n",
    "url <- paste0(base, \"/\", var1, \"/\", var2, \"/cop\")\n",
    "\n",
    "# Perform GET request\n",
    "response <- GET(url, headers, query = params)\n",
    "\n",
    "# Check if the request was successful\n",
    "if (status_code(response) == 200) {\n",
    "  # Parse JSON response and convert to a data frame\n",
    "  content <- content(response, as = \"text\", encoding = \"UTF-8\")\n",
    "  data <- fromJSON(content, flatten = TRUE) %>% as.data.frame()\n",
    "  print(data)\n",
    "} else {\n",
    "  cat(\"Error:\", status_code(response), \"-\", content(response, as = \"text\"), \"\\n\")\n",
    "}"
   ]
  },
  {
   "cell_type": "code",
   "execution_count": null,
   "id": "5abe3e0f-1cf5-4d72-b088-e365953ef486",
   "metadata": {},
   "outputs": [],
   "source": []
  }
 ],
 "metadata": {
  "kernelspec": {
   "display_name": "R",
   "language": "R",
   "name": "ir"
  },
  "language_info": {
   "codemirror_mode": "r",
   "file_extension": ".r",
   "mimetype": "text/x-r-source",
   "name": "R",
   "pygments_lexer": "r",
   "version": "4.4.2"
  }
 },
 "nbformat": 4,
 "nbformat_minor": 5
}
